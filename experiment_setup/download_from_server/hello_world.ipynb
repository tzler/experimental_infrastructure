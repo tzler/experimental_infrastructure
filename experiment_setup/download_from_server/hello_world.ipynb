{
 "cells": [
  {
   "cell_type": "code",
   "execution_count": 1,
   "metadata": {},
   "outputs": [],
   "source": [
    "import pandas, os, json, pymongo, numpy as np\n",
    "import matplotlib.pyplot as plt\n",
    "%matplotlib inline\n",
    "import warnings ; warnings.filterwarnings('ignore')"
   ]
  },
  {
   "cell_type": "markdown",
   "metadata": {},
   "source": [
    "## Setup you'll need to do before you can download data from your server"
   ]
  },
  {
   "cell_type": "markdown",
   "metadata": {},
   "source": [
    "In order to access the database on your server, you'll need two things. \n",
    "\n",
    "1. You'll need to open up a trusted line of communication from computer where you'll be analyzing the data (e.g. your desktop) to the server. \n",
    "\n",
    "    You can do this by modifying the following line of code to match your local configurations and entering it in from the command line: \n",
    "\n",
    "    `ssh -fNL 27017:localhost:27017 <USERNAME>@<DOMAIN_NAME>`\n",
    "\n",
    "    It will ask you for your password--the same password you'd use to log onto your server\n",
    "\n",
    "\n",
    "2. You'll need the the username and password from the (mongo) database itself. You'll find this information in the 'mongo_keys' file int the 'credentials/' folder on your server. \n",
    "    \n",
    "    Copy a version of 'mongo_keys' onto the computer you'll be analyzing data on (we'll call that location `PATH_TO_MONGO_KEYS`)  "
   ]
  },
  {
   "cell_type": "markdown",
   "metadata": {},
   "source": [
    "## Step by step code to connect with your server "
   ]
  },
  {
   "cell_type": "code",
   "execution_count": 2,
   "metadata": {},
   "outputs": [],
   "source": [
    "PATH_TO_MONGO_KEYS = '<YOUR_PATH>'"
   ]
  },
  {
   "cell_type": "code",
   "execution_count": 3,
   "metadata": {},
   "outputs": [],
   "source": [
    "#  to 'mongo_keys' which you should have in your 'credentials/' folder on the server\n",
    "mongo_keys = os.path.join(PATH_TO_MONGO_KEYS, 'mongo_keys') \n",
    "\n",
    "# load our mongo access keys\n",
    "access_info = json.load(open(os.path.join(credential_location, mongo_keys)))\n",
    "\n",
    "# set up the 'tunnel' we'll be using to access the server (which we opened above)\n",
    "mongo_tunnel = 'mongodb://' + access_info['user'] + ':' + access_info['pwd'] + '@127.0.0.1'\n",
    "\n",
    "# conect to the mongo client on the server\n",
    "connection_to_server = pymongo.MongoClient(mongo_tunnel)"
   ]
  },
  {
   "cell_type": "markdown",
   "metadata": {},
   "source": [
    "Here, \"connection_to_server\" is the umbrella connection that you'll use to set up a connection to the specific `database` and `collection` where your data have been stored. We know what database and collection were used to store the \"hello_world\" data from the `server_side_psych/experiment_setup/hello_world/app.js` file. \n",
    "\n",
    "Line 83 specifies the database (`db`) and collection (`collection`): \n",
    " \n",
    " \n",
    "`var collection = client.db('hello_world_database').collection('comments')`\n",
    "\n",
    "Let's use those database and collection names: "
   ]
  },
  {
   "cell_type": "code",
   "execution_count": 4,
   "metadata": {},
   "outputs": [],
   "source": [
    "# define database we want to connect to\n",
    "mongo_database = 'hello_world_database'\n",
    "\n",
    "# define collection we want to connect to\n",
    "mongo_collection = 'comments'"
   ]
  },
  {
   "cell_type": "code",
   "execution_count": 5,
   "metadata": {},
   "outputs": [],
   "source": [
    "# connect to the database\n",
    "data_base = connection_to_server[mongo_database]\n",
    "\n",
    "# connect to the collection\n",
    "collection = data_base[mongo_collection]"
   ]
  },
  {
   "cell_type": "markdown",
   "metadata": {},
   "source": [
    "Let's collect all the documents you've saved from the 'hello_world' demo you just worked through: "
   ]
  },
  {
   "cell_type": "code",
   "execution_count": 6,
   "metadata": {},
   "outputs": [],
   "source": [
    "collection_documents = [i for i in collection.find()]"
   ]
  },
  {
   "cell_type": "markdown",
   "metadata": {},
   "source": [
    "And let's just look at the first thing you saved: "
   ]
  },
  {
   "cell_type": "code",
   "execution_count": 7,
   "metadata": {},
   "outputs": [],
   "source": [
    "collection_documents[0] # requires that there is at least one document saved to the database :) "
   ]
  },
  {
   "cell_type": "markdown",
   "metadata": {},
   "source": [
    "We Can also look at all the databases on the server: "
   ]
  },
  {
   "cell_type": "code",
   "execution_count": 8,
   "metadata": {},
   "outputs": [],
   "source": [
    "connection_to_server.list_database_names()"
   ]
  },
  {
   "cell_type": "markdown",
   "metadata": {},
   "source": [
    "Let's look at each of the collections in these databases, and count the number of documents within them: "
   ]
  },
  {
   "cell_type": "code",
   "execution_count": 9,
   "metadata": {},
   "outputs": [],
   "source": [
    "for d in [i for i in connection_to_server.list_database_names() if i not in ['admin', 'config']]:\n",
    "    print(d, ':')\n",
    "    for c in connection[d].list_collection_names(): \n",
    "        print( \"\\t The '%s' collection  has %d documents\"%(c,connection[d][c].count() ))"
   ]
  }
 ],
 "metadata": {
  "kernelspec": {
   "display_name": "Python [conda env:mtl_perception] *",
   "language": "python",
   "name": "conda-env-mtl_perception-py"
  },
  "language_info": {
   "codemirror_mode": {
    "name": "ipython",
    "version": 3
   },
   "file_extension": ".py",
   "mimetype": "text/x-python",
   "name": "python",
   "nbconvert_exporter": "python",
   "pygments_lexer": "ipython3",
   "version": "3.7.5"
  }
 },
 "nbformat": 4,
 "nbformat_minor": 2
}
