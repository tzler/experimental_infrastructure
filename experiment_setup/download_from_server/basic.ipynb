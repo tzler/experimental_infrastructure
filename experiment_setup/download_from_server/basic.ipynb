{
 "cells": [
  {
   "cell_type": "code",
   "execution_count": 1,
   "metadata": {},
   "outputs": [],
   "source": [
    "import os, pymongo, json, pandas\n",
    "import warnings\n",
    "warnings.filterwarnings('ignore')\n",
    "import matplotlib.pyplot as plt\n",
    "%matplotlib inline"
   ]
  },
  {
   "cell_type": "markdown",
   "metadata": {},
   "source": [
    "## Setup you'll need to do before you can download data from your server"
   ]
  },
  {
   "cell_type": "markdown",
   "metadata": {},
   "source": [
    "In order to access the database on your server, you'll need two things. \n",
    "\n",
    "1. You'll need to open up a trusted line of communication from computer where you'll be analyzing the data (e.g. your desktop) to the server. \n",
    "\n",
    "    You can do this by modifying the following line of code to match your local configurations and entering it in from the command line: \n",
    "\n",
    "    `ssh -fNL 27017:localhost:27017 <USERNAME>@<DOMAIN_NAME>`\n",
    "\n",
    "    It will ask you for your password--the same password you'd use to log onto your server\n",
    "\n",
    "\n",
    "2. You'll need the the username and password from the (mongo) database itself. You'll find this information in the 'mongo_keys' file int the 'credentials/' folder on your server. \n",
    "    \n",
    "    Copy a version of 'mongo_keys' onto the computer you'll be analyzing data on (we'll call that location `PATH_TO_MONGO_KEYS`)  "
   ]
  },
  {
   "cell_type": "markdown",
   "metadata": {},
   "source": [
    "## Step by step code to connect with your server "
   ]
  },
  {
   "cell_type": "code",
   "execution_count": 13,
   "metadata": {},
   "outputs": [],
   "source": [
    "PATH_TO_MONGO_KEYS = '<YOUR_PATH>'"
   ]
  },
  {
   "cell_type": "code",
   "execution_count": 3,
   "metadata": {},
   "outputs": [],
   "source": [
    "# mongo key name\n",
    "mongo_keys = 'mongo_keys'\n",
    "\n",
    "# load our mongo access keys\n",
    "access_info = json.load(open(os.path.join(PATH_TO_MONGO_KEYS, mongo_keys)))\n",
    "\n",
    "# set up the 'tunnel' we'll be using to access the server (which we opened above)\n",
    "mongo_tunnel = 'mongodb://' + access_info['user'] + ':' + access_info['pwd'] + '@127.0.0.1'\n",
    "\n",
    "# conect to the mongo client on the server\n",
    "connection_to_server = pymongo.MongoClient(mongo_tunnel)"
   ]
  },
  {
   "cell_type": "markdown",
   "metadata": {},
   "source": [
    "## Extracting data from a particular database"
   ]
  },
  {
   "cell_type": "markdown",
   "metadata": {},
   "source": [
    "Here, \"connection_to_server\" is the umbrella connection that you'll use to set up a connection to the specific `database` and `collection` where your data have been stored. It's a good idea to go over a tutorial online about how these work, but mongo databases have a generic structure: \n",
    "\n",
    "- Mongo Database (running on your server) \n",
    "\n",
    "    - Database A \n",
    "\n",
    "        - Collection A\n",
    "            - Document 1\n",
    "            - Document 2\n",
    "            - ... \n",
    "            - Document N\n",
    "        - Collection B \n",
    "    - Database B \n",
    "        - ... \n",
    "    - ... \n",
    "\n",
    "\n",
    "Whenever we save a document, we have to specify which database and collection that document is saved into. In the `hello_world` demo, we've specified that in the `app.js` file at `server_side_psych/experiment_setup/hello_world/app.js`.  \n",
    "\n",
    "Line 83 specifies the database (`db`) and collection (`collection`): \n",
    " \n",
    " \n",
    "`var collection = client.db('hello_world_database').collection('comments')`\n",
    "\n",
    "\n",
    "This means that all the documents you save are going to be stored like this\n",
    "- Mongo Database (running on your server) \n",
    "\n",
    "    - hello_world_database \n",
    "        - comments\n",
    "            - Document 1\n",
    "            - Document 2 \n",
    "            - ... \n",
    "        \n",
    "Let's use those database and collection names: "
   ]
  },
  {
   "cell_type": "code",
   "execution_count": 4,
   "metadata": {},
   "outputs": [],
   "source": [
    "# define database we want to connect to\n",
    "mongo_database = 'hello_world_database'\n",
    "\n",
    "# connect to the database\n",
    "data_base = connection_to_server[mongo_database]\n",
    "\n",
    "# define collection we want to connect to\n",
    "mongo_collection = 'reaction_time'\n",
    "\n",
    "# connect to the collection\n",
    "collection = data_base[mongo_collection]"
   ]
  },
  {
   "cell_type": "markdown",
   "metadata": {},
   "source": [
    "Let's collect all the documents you've saved from the 'hello_world' demo you just worked through: "
   ]
  },
  {
   "cell_type": "code",
   "execution_count": 5,
   "metadata": {},
   "outputs": [],
   "source": [
    "collection_documents = [i for i in collection.find()]"
   ]
  },
  {
   "cell_type": "markdown",
   "metadata": {},
   "source": [
    "And let's just look at the first thing you saved: "
   ]
  },
  {
   "cell_type": "code",
   "execution_count": 6,
   "metadata": {},
   "outputs": [
    {
     "data": {
      "text/plain": [
       "{'_id': ObjectId('60528cffa274c926fe58043f'),\n",
       " 'rt': 480,\n",
       " 'stimulus': 'utils/orange.png',\n",
       " 'response': 'j',\n",
       " 'test_part': 'test',\n",
       " 'correct_response': 'j',\n",
       " 'trial_type': 'image-keyboard-response',\n",
       " 'trial_index': 3,\n",
       " 'time_elapsed': 7138,\n",
       " 'internal_node_id': '0.0-2.0-1.0',\n",
       " 'correct': True}"
      ]
     },
     "execution_count": 6,
     "metadata": {},
     "output_type": "execute_result"
    }
   ],
   "source": [
    "collection_documents[0] # requires that there is at least one document saved to the database :) "
   ]
  },
  {
   "cell_type": "markdown",
   "metadata": {},
   "source": [
    "We Can also look at all the databases on the server: "
   ]
  },
  {
   "cell_type": "code",
   "execution_count": 11,
   "metadata": {},
   "outputs": [],
   "source": [
    "connection_to_server.list_database_names()"
   ]
  },
  {
   "cell_type": "markdown",
   "metadata": {},
   "source": [
    "Let's visualize some of the reaction time data from the demo experiment. Looking at `server_side_psych/experiment_setup/integration_demo/app.js` we can see that the database is the same, but the collection is different. So let's change the collection we're connected to: "
   ]
  },
  {
   "cell_type": "code",
   "execution_count": 8,
   "metadata": {},
   "outputs": [],
   "source": [
    "# define collection we want to connect to\n",
    "mongo_collection = 'reaction_time'\n",
    "\n",
    "# connect to the collection\n",
    "collection = data_base[mongo_collection]"
   ]
  },
  {
   "cell_type": "code",
   "execution_count": 9,
   "metadata": {},
   "outputs": [],
   "source": [
    "# first let's extract all the reaction time trials we've collected \n",
    "rt_trials = [i for i in collection.find()]\n",
    "\n",
    "# then let's convert this to a pandas dataframe\n",
    "rt_dataframe = pandas.DataFrame(rt_trials)\n",
    "\n",
    "# ... select only the columns we want \n",
    "rt_dataframe = rt_dataframe[['stimulus', 'response', 'rt', 'correct_response', 'time_elapsed']]\n",
    "\n",
    "# ... and clean up the variable names\n",
    "rt_dataframe['stimulus'] = [i[6:-4] for i in rt_dataframe['stimulus']]"
   ]
  },
  {
   "cell_type": "code",
   "execution_count": 10,
   "metadata": {},
   "outputs": [
    {
     "data": {
      "image/png": "[encoded data removed]",
      "text/plain": [
       "<Figure size 432x288 with 1 Axes>"
      ]
     },
     "metadata": {
      "needs_background": "light"
     },
     "output_type": "display_data"
    }
   ],
   "source": [
    "for i_color in ['blue', 'orange']: \n",
    "    df_color = rt_dataframe[rt_dataframe.stimulus==i_color]\n",
    "    plt.scatter(x=df_color.time_elapsed/1000, y=df_color.rt, color=i_color, label=i_color)\n",
    "\n",
    "plt.legend(title='Stimulus', framealpha=0, bbox_to_anchor=[1,1])\n",
    "plt.xlabel('Time elapsed in experiment (s)', fontsize=14, labelpad=10)\n",
    "plt.ylabel('Trial Reaction Time (ms)', fontsize=14, labelpad=10); "
   ]
  }
 ],
 "metadata": {
  "kernelspec": {
   "display_name": "Python [conda env:mtl_perception] *",
   "language": "python",
   "name": "conda-env-mtl_perception-py"
  },
  "language_info": {
   "codemirror_mode": {
    "name": "ipython",
    "version": 3
   },
   "file_extension": ".py",
   "mimetype": "text/x-python",
   "name": "python",
   "nbconvert_exporter": "python",
   "pygments_lexer": "ipython3",
   "version": "3.7.5"
  }
 },
 "nbformat": 4,
 "nbformat_minor": 2
}
