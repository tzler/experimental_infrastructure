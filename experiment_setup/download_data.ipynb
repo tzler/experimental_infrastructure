{
 "cells": [
  {
   "cell_type": "code",
   "execution_count": 1,
   "metadata": {},
   "outputs": [],
   "source": [
    "import os, pymongo, json, pandas\n",
    "import warnings\n",
    "warnings.filterwarnings('ignore')\n",
    "import matplotlib.pyplot as plt\n",
    "%matplotlib inline"
   ]
  },
  {
   "cell_type": "markdown",
   "metadata": {},
   "source": [
    "## Setup you'll need to do before you can download data from your server"
   ]
  },
  {
   "cell_type": "markdown",
   "metadata": {},
   "source": [
    "In order to access the database on your server, you'll need two things. \n",
    "\n",
    "1. You'll need to open up a trusted line of communication from computer where you'll be analyzing the data (e.g. your desktop) to the server. \n",
    "\n",
    "    You can do this by modifying the following line of code to match your local configurations and entering it in from the command line: \n",
    "\n",
    "    `ssh -fNL 27017:localhost:27017 <USERNAME>@<DOMAIN_NAME>`\n",
    "\n",
    "    It will ask you for your password--the same password you'd use to log onto your server\n",
    "\n",
    "\n",
    "2. You'll need the the username and password from the (mongo) database itself. You'll find this information in the 'mongo_keys' file int the 'credentials/' folder on your server. \n",
    "    \n",
    "    Copy a version of 'mongo_keys' onto the computer you'll be analyzing data on (we'll call that location `PATH_TO_MONGO_KEYS`)  "
   ]
  },
  {
   "cell_type": "markdown",
   "metadata": {},
   "source": [
    "## Step by step code to connect with your server "
   ]
  },
  {
   "cell_type": "code",
   "execution_count": 2,
   "metadata": {},
   "outputs": [],
   "source": [
    "PATH_TO_MONGO_KEYS = '<YOUR_PATH>'\n",
    "PATH_TO_MONGO_KEYS = '/Users/biota/work/mtl_perception/high-throughput/online_experiment/credentials/'#"
   ]
  },
  {
   "cell_type": "code",
   "execution_count": 3,
   "metadata": {},
   "outputs": [],
   "source": [
    "# mongo key name\n",
    "mongo_keys = 'mongo_keys'\n",
    "\n",
    "# load our mongo access keys\n",
    "access_info = json.load(open(os.path.join(PATH_TO_MONGO_KEYS, mongo_keys)))\n",
    "\n",
    "# set up the 'tunnel' we'll be using to access the server (which we opened above)\n",
    "mongo_tunnel = 'mongodb://' + access_info['user'] + ':' + access_info['pwd'] + '@127.0.0.1'\n",
    "\n",
    "# conect to the mongo client on the server\n",
    "connection_to_server = pymongo.MongoClient(mongo_tunnel)"
   ]
  },
  {
   "cell_type": "markdown",
   "metadata": {},
   "source": [
    "## Extracting data from a particular database"
   ]
  },
  {
   "cell_type": "markdown",
   "metadata": {},
   "source": [
    "Here, \"connection_to_server\" is the umbrella connection that you'll use to set up a connection to the specific `database` and `collection` where your data have been stored. It's a good idea to go over a tutorial online about how these work, but mongo databases have a generic structure: \n",
    "\n",
    "- Mongo Database (running on your server) \n",
    "\n",
    "    - Database A \n",
    "\n",
    "        - Collection A\n",
    "            - Document 1\n",
    "            - Document 2\n",
    "            - ... \n",
    "            - Document N\n",
    "        - Collection B \n",
    "    - Database B \n",
    "        - ... \n",
    "    - ... \n",
    "\n",
    "\n",
    "Whenever we save a document, we have to specify which database and collection that document is saved into. In the `hello_world` demo, we've specified that in the `app.js` file at `server_side_psych/experiment_setup/hello_world/app.js`.  \n",
    "\n",
    "Line 83 specifies the database (`db`) and collection (`collection`): \n",
    " \n",
    " \n",
    "`var collection = client.db('hello_world_database').collection('comments')`\n",
    "\n",
    "\n",
    "This means that all the documents you save are going to be stored like this\n",
    "- Mongo Database (running on your server) \n",
    "\n",
    "    - hello_world_database \n",
    "        - comments\n",
    "            - Document 1\n",
    "            - Document 2 \n",
    "            - ... \n",
    "        \n",
    "Once we've gone through the whole tutorial, let's connect to the database that contains all our collections: "
   ]
  },
  {
   "cell_type": "code",
   "execution_count": 8,
   "metadata": {},
   "outputs": [],
   "source": [
    "# define database we want to connect to\n",
    "mongo_database = 'tutorial'\n",
    "\n",
    "# connect to the database\n",
    "data_base = connection_to_server[mongo_database]"
   ]
  },
  {
   "cell_type": "markdown",
   "metadata": {},
   "source": [
    "and look at all the collects we have, which correspond to the collection names in the `app.js` file: "
   ]
  },
  {
   "cell_type": "code",
   "execution_count": 9,
   "metadata": {},
   "outputs": [
    {
     "data": {
      "text/plain": [
       "['hello_world']"
      ]
     },
     "execution_count": 9,
     "metadata": {},
     "output_type": "execute_result"
    }
   ],
   "source": [
    "data_base.list_collection_names() "
   ]
  },
  {
   "cell_type": "markdown",
   "metadata": {},
   "source": [
    "First let's collect some of the data from `hello_world`: "
   ]
  },
  {
   "cell_type": "code",
   "execution_count": 17,
   "metadata": {},
   "outputs": [],
   "source": [
    "# define collection we want to connect to\n",
    "mongo_collection = 'hello_world'\n",
    "\n",
    "# connect to the collection\n",
    "collection = data_base[mongo_collection]\n",
    "\n",
    "# extract ever document into a list \n",
    "collection_documents = list( collection.find() ) "
   ]
  },
  {
   "cell_type": "code",
   "execution_count": 18,
   "metadata": {},
   "outputs": [
    {
     "data": {
      "text/plain": [
       "[{'_id': ObjectId('60548f6fbb22040bcc8349f7'), 'text_input': '0'},\n",
       " {'_id': ObjectId('60548f71bb22040bcc8349f8'), 'text_input': '1'},\n",
       " {'_id': ObjectId('60548f72bb22040bcc8349f9'), 'text_input': '2'},\n",
       " {'_id': ObjectId('60548f73bb22040bcc8349fa'), 'text_input': '3'}]"
      ]
     },
     "execution_count": 18,
     "metadata": {},
     "output_type": "execute_result"
    }
   ],
   "source": [
    "collection_documents # requires that there is at least one document saved to the database :) "
   ]
  },
  {
   "cell_type": "markdown",
   "metadata": {},
   "source": [
    "And let's just look at the first thing you saved: "
   ]
  },
  {
   "cell_type": "markdown",
   "metadata": {},
   "source": [
    "Let's visualize some of the reaction time data from the `jsPsych_demo` experiment. The database is the same, but the collection is different. So let's change the collection we're connected to: "
   ]
  },
  {
   "cell_type": "code",
   "execution_count": 45,
   "metadata": {},
   "outputs": [],
   "source": [
    "# define collection we want to connect to\n",
    "mongo_collection = 'jsPsych_demo'\n",
    "\n",
    "# connect to the collection\n",
    "collection = data_base[mongo_collection]"
   ]
  },
  {
   "cell_type": "code",
   "execution_count": 46,
   "metadata": {},
   "outputs": [],
   "source": [
    "#collection.delete_many({})"
   ]
  },
  {
   "cell_type": "code",
   "execution_count": 71,
   "metadata": {},
   "outputs": [],
   "source": [
    "# first let's extract all the reaction time trials we've collected \n",
    "jsPsych_demo = [i for i in collection.find()]\n",
    "\n",
    "# then let's convert this to a pandas dataframe\n",
    "jsPsych_demo = pandas.DataFrame(jsPsych_demo)\n",
    "\n",
    "# # ... select only the columns we want \n",
    "jsPsych_demo = rt_dataframe[['stimulus', 'response', 'rt', 'correct_response', 'time_elapsed']]"
   ]
  },
  {
   "cell_type": "code",
   "execution_count": 72,
   "metadata": {},
   "outputs": [
    {
     "data": {
      "text/html": [
       "<div>\n",
       "<style scoped>\n",
       "    .dataframe tbody tr th:only-of-type {\n",
       "        vertical-align: middle;\n",
       "    }\n",
       "\n",
       "    .dataframe tbody tr th {\n",
       "        vertical-align: top;\n",
       "    }\n",
       "\n",
       "    .dataframe thead th {\n",
       "        text-align: right;\n",
       "    }\n",
       "</style>\n",
       "<table border=\"1\" class=\"dataframe\">\n",
       "  <thead>\n",
       "    <tr style=\"text-align: right;\">\n",
       "      <th></th>\n",
       "      <th>stimulus</th>\n",
       "      <th>response</th>\n",
       "      <th>rt</th>\n",
       "      <th>correct_response</th>\n",
       "      <th>time_elapsed</th>\n",
       "    </tr>\n",
       "  </thead>\n",
       "  <tbody>\n",
       "    <tr>\n",
       "      <th>0</th>\n",
       "      <td>orange</td>\n",
       "      <td>j</td>\n",
       "      <td>545.370</td>\n",
       "      <td>j</td>\n",
       "      <td>6864</td>\n",
       "    </tr>\n",
       "    <tr>\n",
       "      <th>1</th>\n",
       "      <td>blue</td>\n",
       "      <td>f</td>\n",
       "      <td>415.490</td>\n",
       "      <td>f</td>\n",
       "      <td>8535</td>\n",
       "    </tr>\n",
       "    <tr>\n",
       "      <th>2</th>\n",
       "      <td>orange</td>\n",
       "      <td>j</td>\n",
       "      <td>626.330</td>\n",
       "      <td>j</td>\n",
       "      <td>10416</td>\n",
       "    </tr>\n",
       "    <tr>\n",
       "      <th>3</th>\n",
       "      <td>blue</td>\n",
       "      <td>f</td>\n",
       "      <td>563.245</td>\n",
       "      <td>f</td>\n",
       "      <td>11254</td>\n",
       "    </tr>\n",
       "    <tr>\n",
       "      <th>4</th>\n",
       "      <td>blue</td>\n",
       "      <td>f</td>\n",
       "      <td>637.690</td>\n",
       "      <td>f</td>\n",
       "      <td>12917</td>\n",
       "    </tr>\n",
       "    <tr>\n",
       "      <th>5</th>\n",
       "      <td>orange</td>\n",
       "      <td>j</td>\n",
       "      <td>640.900</td>\n",
       "      <td>j</td>\n",
       "      <td>15561</td>\n",
       "    </tr>\n",
       "    <tr>\n",
       "      <th>6</th>\n",
       "      <td>blue</td>\n",
       "      <td>f</td>\n",
       "      <td>540.670</td>\n",
       "      <td>f</td>\n",
       "      <td>16353</td>\n",
       "    </tr>\n",
       "    <tr>\n",
       "      <th>7</th>\n",
       "      <td>orange</td>\n",
       "      <td>j</td>\n",
       "      <td>539.730</td>\n",
       "      <td>j</td>\n",
       "      <td>17145</td>\n",
       "    </tr>\n",
       "    <tr>\n",
       "      <th>8</th>\n",
       "      <td>orange</td>\n",
       "      <td>j</td>\n",
       "      <td>655.155</td>\n",
       "      <td>j</td>\n",
       "      <td>18552</td>\n",
       "    </tr>\n",
       "    <tr>\n",
       "      <th>9</th>\n",
       "      <td>blue</td>\n",
       "      <td>f</td>\n",
       "      <td>448.470</td>\n",
       "      <td>f</td>\n",
       "      <td>20504</td>\n",
       "    </tr>\n",
       "  </tbody>\n",
       "</table>\n",
       "</div>"
      ],
      "text/plain": [
       "  stimulus response       rt correct_response  time_elapsed\n",
       "0   orange        j  545.370                j          6864\n",
       "1     blue        f  415.490                f          8535\n",
       "2   orange        j  626.330                j         10416\n",
       "3     blue        f  563.245                f         11254\n",
       "4     blue        f  637.690                f         12917\n",
       "5   orange        j  640.900                j         15561\n",
       "6     blue        f  540.670                f         16353\n",
       "7   orange        j  539.730                j         17145\n",
       "8   orange        j  655.155                j         18552\n",
       "9     blue        f  448.470                f         20504"
      ]
     },
     "execution_count": 72,
     "metadata": {},
     "output_type": "execute_result"
    }
   ],
   "source": [
    "jsPsych_demo"
   ]
  },
  {
   "cell_type": "code",
   "execution_count": 73,
   "metadata": {},
   "outputs": [
    {
     "data": {
      "image/png": "[encoded data removed]",
      "text/plain": [
       "<Figure size 432x288 with 1 Axes>"
      ]
     },
     "metadata": {
      "needs_background": "light"
     },
     "output_type": "display_data"
    }
   ],
   "source": [
    "for i_color in ['blue', 'orange']: \n",
    "    df_color = jsPsych_demo[jsPsych_demo.stimulus==i_color]\n",
    "    plt.scatter(x=df_color.time_elapsed/1000, y=df_color.rt, color=i_color, label=i_color)\n",
    "\n",
    "plt.legend(title='Stimulus')\n",
    "plt.xlabel('Time elapsed in experiment (s)', fontsize=14, labelpad=10)\n",
    "plt.ylabel('Trial Reaction Time (ms)', fontsize=14, labelpad=10); "
   ]
  },
  {
   "cell_type": "code",
   "execution_count": 74,
   "metadata": {},
   "outputs": [],
   "source": [
    "# define collection we want to connect to\n",
    "mongo_collection = 'mturk_demo'\n",
    "\n",
    "# connect to the collection\n",
    "collection = data_base[mongo_collection]"
   ]
  },
  {
   "cell_type": "code",
   "execution_count": 86,
   "metadata": {},
   "outputs": [],
   "source": [
    "# first let's extract all the reaction time trials we've collected \n",
    "jsPsych_demo = [i for i in collection.find()]\n",
    "\n",
    "# then let's convert this to a pandas dataframe\n",
    "mturk_demo = pandas.DataFrame(jsPsych_demo)\n",
    "\n",
    "# # # ... select only the columns we want \n",
    "mturk_demo = mturk_demo[['stimulus', 'response', 'rt', 'correct_response', 'time_elapsed', 'worker_id']]\n",
    "\n",
    "# cleanup names of stimuli\n",
    "mturk_demo['stimulus'] = [trial[8:-4] for trial in mturk_demo['stimulus']]"
   ]
  },
  {
   "cell_type": "code",
   "execution_count": 87,
   "metadata": {},
   "outputs": [
    {
     "data": {
      "image/png": "[encoded data removed]",
      "text/plain": [
       "<Figure size 432x288 with 1 Axes>"
      ]
     },
     "metadata": {
      "needs_background": "light"
     },
     "output_type": "display_data"
    }
   ],
   "source": [
    "for i_color in ['blue', 'orange']: \n",
    "    df_color = mturk_demo[mturk_demo.stimulus==i_color]\n",
    "    plt.scatter(x=df_color.time_elapsed/1000, y=df_color.rt, color=i_color, label=i_color)\n",
    "\n",
    "plt.legend(title='Stimulus')\n",
    "plt.xlabel('Time elapsed in experiment (s)', fontsize=14, labelpad=10)\n",
    "plt.ylabel('Trial Reaction Time (ms)', fontsize=14, labelpad=10); "
   ]
  }
 ],
 "metadata": {
  "kernelspec": {
   "display_name": "Python [conda env:mtl_perception] *",
   "language": "python",
   "name": "conda-env-mtl_perception-py"
  },
  "language_info": {
   "codemirror_mode": {
    "name": "ipython",
    "version": 3
   },
   "file_extension": ".py",
   "mimetype": "text/x-python",
   "name": "python",
   "nbconvert_exporter": "python",
   "pygments_lexer": "ipython3",
   "version": "3.7.5"
  }
 },
 "nbformat": 4,
 "nbformat_minor": 2
}
