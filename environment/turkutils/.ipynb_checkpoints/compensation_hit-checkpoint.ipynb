{
 "cells": [
  {
   "cell_type": "code",
   "execution_count": 488,
   "metadata": {},
   "outputs": [],
   "source": [
    "import warnings; warnings.simplefilter('ignore')\n",
    "# /usr/bin/python\n",
    "from boto.mturk.connection import MTurkConnection\n",
    "from boto.mturk.question import ExternalQuestion\n",
    "from dateutil.parser import *\n",
    "from boto.mturk.question import HTMLQuestion\n",
    "import numpy as np\n",
    "import datetime, hashlib, boto, os, pymongo, json, pandas"
   ]
  },
  {
   "cell_type": "code",
   "execution_count": 489,
   "metadata": {},
   "outputs": [
    {
     "name": "stdout",
     "output_type": "stream",
     "text": [
      "Populating the interactive namespace from numpy and matplotlib\n"
     ]
    }
   ],
   "source": [
    "% pylab inline"
   ]
  },
  {
   "cell_type": "code",
   "execution_count": 341,
   "metadata": {},
   "outputs": [],
   "source": [
    "# conect to the mongodb\n",
    "data = json.load(open('../credentials/auth.json'))\n",
    "mongo_tunnel = 'mongodb://' + data['user'] + ':' + data['password'] + '@127.0.0.1'\n",
    "connection = pymongo.MongoClient(mongo_tunnel)\n",
    "data_base = connection['task_stream']\n",
    "collection = data_base['match_to_sample']"
   ]
  },
  {
   "cell_type": "code",
   "execution_count": 2,
   "metadata": {},
   "outputs": [],
   "source": [
    "\n",
    "tyler_id = 'A33F2FVAMGJDGG'\n"
   ]
  },
  {
   "cell_type": "code",
   "execution_count": 3,
   "metadata": {},
   "outputs": [],
   "source": [
    "\n",
    "in_progress = {} \n"
   ]
  },
  {
   "cell_type": "code",
   "execution_count": 4,
   "metadata": {},
   "outputs": [],
   "source": [
    "\n",
    "key_info = np.load('../credentials/snail_rootkey.npy').item()\n"
   ]
  },
  {
   "cell_type": "code",
   "execution_count": 5,
   "metadata": {},
   "outputs": [
    {
     "name": "stdout",
     "output_type": "stream",
     "text": [
      "okay... this one is for real!\n",
      "\n"
     ]
    }
   ],
   "source": [
    "context = 'live'\n",
    "\n",
    "if context == 'sandbox':\n",
    "    \n",
    "    host = 'mechanicalturk.sandbox.amazonaws.com'\n",
    "    hit_url = 'https://workersandbox.mturk.com/mturk/preview?groupId='\n",
    "    external_submit = 'https://workersandbox.mturk.com/mturk/externalSubmit'\n",
    "\n",
    "elif context == 'live':\n",
    "\n",
    "    print('okay... this one is for real!\\n')\n",
    "    host = 'mechanicalturk.amazonaws.com'\n",
    "    hit_url = 'https://www.mturk.com/mturk/preview?groupId='\n",
    "    external_submit = \"https://www.mturk.com/mturk/externalSubmit\"\n"
   ]
  },
  {
   "cell_type": "code",
   "execution_count": 6,
   "metadata": {},
   "outputs": [],
   "source": [
    "\n",
    "# generate password from the worker id and current time\n",
    "time_code = datetime.datetime.now()\n",
    "unique_key = str(time_code)\n",
    "password = hashlib.md5(unique_key.encode()).hexdigest()\n"
   ]
  },
  {
   "cell_type": "code",
   "execution_count": 7,
   "metadata": {},
   "outputs": [],
   "source": [
    "# HIT HTML: instructions, text box, password submit button, success (or error) message, and HIT submit button\n",
    "question_html_format = \"\"\"\n",
    "<html>\n",
    "\n",
    "  <head>\n",
    "\n",
    "    <style>\n",
    "    #main\n",
    "    {\n",
    "     margin: 100px auto;\n",
    "     width: 900px;\n",
    "     text-align:center;\n",
    "    }\n",
    "    </style>\n",
    "\n",
    "    <meta http-equiv='Content-Type' content='text/html; charset=UTF-8'/>\n",
    "    <script src='https://s3.amazonaws.com/mturk-public/externalHIT_v1.js' type='text/javascript'></script>\n",
    "\n",
    "    <script>\n",
    "\n",
    "     function turkGetParam( name, defaultValue )\n",
    "     {\n",
    "       var regexS = \"[\\?&]\"+name+\"=([^&#]*)\";\n",
    "       var regex = new RegExp( regexS );\n",
    "       var tmpURL = window.location.href;\n",
    "       var results = regex.exec( tmpURL );\n",
    "\n",
    "       if( results == null )\n",
    "         { return defaultValue }\n",
    "       else\n",
    "         { return results[1]}\n",
    "      }\n",
    "\n",
    "      var worker_id_from_webpage = turkGetParam( 'workerId', 'NONE' )\n",
    "\n",
    "      var user_input = '%s'\n",
    "\n",
    "      function myFunction() {\n",
    "\n",
    "        password_match = document.getElementById('text_box_input').value === user_input\n",
    "\n",
    "        if ( password_match )\n",
    "        {\n",
    "          document.getElementById(\"correct_message\").style.color = \"blue\";\n",
    "          document.getElementById(\"submit_password\").style.display = \"none\";\n",
    "          document.getElementById(\"correct_message\").style.display = \"block\"\n",
    "          document.getElementById(\"submitButton\").style.display = \"inline-block\"\n",
    "        }\n",
    "        else\n",
    "        {\n",
    "          document.getElementById(\"error_message\").style.color = \"red\";\n",
    "          document.getElementById(\"error_message\").style.display = \"block\";}\n",
    "        }\n",
    "\n",
    "    </script>\n",
    "\n",
    "  </head>\n",
    "\n",
    "  <body>\n",
    "\n",
    "    <!-- HTML to handle creating the HIT form -->\n",
    "\n",
    "    <div id='main'>\n",
    "\n",
    "      <p id=\"error_message\" style='display:none; font-size:20px'>\n",
    "      You must acccept this HIT for the identity validation step to be successful <br/>\n",
    "      If you continue getting this message and believe it is an error, send the experimenter an email<br/><br/>\n",
    "      Otherwise, please return this HIT! <br/>\n",
    "      The person who this was indended for wont get paid until you do :(\n",
    "      </p>\n",
    "      <p id=\"correct_message\" style='display:none; font-size:20px'>\n",
    "      Thanks so much!<br/>\n",
    "      We appreciate your time and apologize for the hassle :)<br/>\n",
    "      Press \"Submit\" to receive your compensation. It may take up to 24 hours to complete. \n",
    "      </p>\n",
    "\n",
    "      <form name='mturk_form' method='post' id='mturk_form' action='%s'>\n",
    "\n",
    "        <input type='hidden' value='' name='assignmentId' id='assignmentId'/>\n",
    "        <!-- set question for subject -->\n",
    "        <h2>Please enter your password</h2>\n",
    "        <p><textarea id='text_box_input' name='answer' rows=1 cols=%d></textarea></p>\n",
    "        <!-- HTML to handle submitting the HIT -->\n",
    "        <p><input type='submit' id='submitButton' value='Submit' style='display:none'/></p></form>\n",
    "        <p><input type='submit' id='submit_password' value='PASSWORD SUBMIT' onclick=\"myFunction()\"/></p>\n",
    "\n",
    "    </div>\n",
    "    <script language='Javascript'>turkSetAssignmentID();</script>\n",
    "  </body>\n",
    "\n",
    "</html>\n",
    "\"\"\"                     %(password, external_submit, len(password)+5)"
   ]
  },
  {
   "cell_type": "code",
   "execution_count": 10,
   "metadata": {},
   "outputs": [],
   "source": [
    "\n",
    "question_contents = HTMLQuestion(question_html_format, 600)\n"
   ]
  },
  {
   "cell_type": "code",
   "execution_count": 11,
   "metadata": {},
   "outputs": [],
   "source": [
    "\n",
    "mtc = MTurkConnection(aws_access_key_id= key_info['AWSAccessKeyId'], \n",
    "                      aws_secret_access_key=key_info['AWSSecretKey'], \n",
    "                      host=host)\n"
   ]
  },
  {
   "cell_type": "code",
   "execution_count": 12,
   "metadata": {},
   "outputs": [],
   "source": [
    "hit_compensation_amount = 0.01\n",
    "\n",
    "response = mtc.create_hit(question=question_contents,\n",
    "                          max_assignments=100,\n",
    "                          title=\"A compensation HIT for workers with the Stanford Neuro AI lab\",\n",
    "                          description=\"All other workers will be rejected\",\n",
    "                          keywords=\"personalized HIT\",\n",
    "                          duration=60*60*60,\n",
    "                          reward=hit_compensation_amount,\n",
    "                          approval_delay=None)\n"
   ]
  },
  {
   "cell_type": "code",
   "execution_count": 272,
   "metadata": {},
   "outputs": [
    {
     "name": "stdout",
     "output_type": "stream",
     "text": [
      "\n",
      "\n",
      "password: a9665ed4ad144ed9b0fe55c5ccac611e \n",
      "url: https://www.mturk.com/mturk/preview?groupId=3Y7FOS1S79CMDPT3KIK19HN0CDN5SG \n",
      "\n",
      "\n"
     ]
    }
   ],
   "source": [
    "if response.status: \n",
    "    \n",
    "    for i in range(len(response)): \n",
    "\n",
    "        hit_type_id = response[i].HITTypeId\n",
    "        hit_id = response[i].HITId   \n",
    "        in_progress[hit_id] = {'bonus_amount':hit_compensation_amount}\n",
    "\n",
    "        print('\\n\\npassword:', password, '\\nurl:',  hit_url + hit_type_id, '\\n\\n')"
   ]
  },
  {
   "cell_type": "code",
   "execution_count": 179,
   "metadata": {},
   "outputs": [],
   "source": [
    "# nov 6th\n",
    "# password: 0005f2aeb7d360d2413553d9f0d43b10 \n",
    "# url: https://www.mturk.com/mturk/preview?groupId=3Y7FOS1S79CMDPT3KIK19HN0CDN5SG "
   ]
  },
  {
   "cell_type": "code",
   "execution_count": 556,
   "metadata": {},
   "outputs": [
    {
     "name": "stdout",
     "output_type": "stream",
     "text": [
      "A3SDBPUAJB2SOV : already accepted HIT\n",
      "A3LL096CAY5WHB : already accepted HIT\n",
      "A1GS5CF02OYOV1 : already accepted HIT\n",
      "A12IHTKQFQIPD1 : already accepted HIT\n",
      "AXWJ324RX7D14 : already accepted HIT\n",
      "A2MDFKOD2G3R4D : already accepted HIT\n",
      "A2IC4IMH7G9UKU : already accepted HIT\n",
      "ASF5V3K4IFP4K : already accepted HIT\n",
      "AMYKWOB2TH06O : already accepted HIT\n",
      "A1WWD0MJ5C4G2G : already accepted HIT\n",
      "A22Z03NU5RN6AZ : already accepted HIT\n",
      "AJ741VY7A3MK1 : already accepted HIT\n",
      "A37GOGQDYDT44K : already accepted HIT\n",
      "A1R907HJF0EC78 : already accepted HIT\n",
      "A2HPCY6M9H5QHW : already accepted HIT\n",
      "A1V28M7MFJES4F : already accepted HIT\n",
      "A184EIWAV7P9EH : already accepted HIT\n",
      "A3CXK1KSRGU27V : already accepted HIT\n",
      "ANQ1ENZJHWB8Z : already accepted HIT\n",
      "A37XJVQF62ZYC : already accepted HIT\n",
      "A5YBM0RP17IOZ : already accepted HIT\n",
      "AGBDM3NKRKXBQ : already accepted HIT\n",
      "A2PWQE7PMPZ02J : already accepted HIT\n",
      "AA87I4LIAG09P : already accepted HIT\n",
      "AGFYWCPRQIB6O : already accepted HIT\n",
      "A1N4GMBT5ODBK1 : already accepted HIT\n",
      "A1I3QYJJU5ACFR : already accepted HIT\n",
      "A2IRBZJJEB9P5E : already accepted HIT\n",
      "A49A0FF6ZXYDU : already accepted HIT\n"
     ]
    }
   ],
   "source": [
    "\n",
    "result = mtc.get_assignments(hit_id, page_size=100)\n",
    "\n",
    "if len(result): \n",
    "\n",
    "    for i_result in range(len(result)): \n",
    "        worker_id = result[i_result].WorkerId\n",
    "        assignment_id = result[i_result].AssignmentId\n",
    "        print(worker_id, ':', end=' ')\n",
    "        try: \n",
    "            mtc.approve_assignment(assignment_id)\n",
    "            print('accepted HIT')\n",
    "        except: \n",
    "            print('already accepted HIT')\n",
    "            "
   ]
  },
  {
   "cell_type": "code",
   "execution_count": 286,
   "metadata": {},
   "outputs": [
    {
     "data": {
      "text/plain": [
       "('29', '29')"
      ]
     },
     "execution_count": 286,
     "metadata": {},
     "output_type": "execute_result"
    }
   ],
   "source": [
    "submissions = mtc.get_assignments(hit_id, page_size=100)\n",
    "submissions.NumResults, submissions.TotalNumResults"
   ]
  },
  {
   "cell_type": "code",
   "execution_count": 281,
   "metadata": {},
   "outputs": [],
   "source": []
  },
  {
   "cell_type": "code",
   "execution_count": 170,
   "metadata": {},
   "outputs": [],
   "source": [
    "hit_id = list(in_progress)[0]"
   ]
  },
  {
   "cell_type": "code",
   "execution_count": 301,
   "metadata": {},
   "outputs": [],
   "source": [
    "def extract_worker_info(worker_id, i_collection): \n",
    "    \n",
    "    w_data, bonus_amount = '', ''\n",
    " \n",
    "    if collection.find({'worker_id':worker_id}).count(): \n",
    "        \n",
    "        has_data = 1 \n",
    "        try: \n",
    "            w_data = collection.find({'worker_id':worker_id, \n",
    "                                      \"data_type\":\"worker_feedback\", \n",
    "                                      'assignment_id':assignment_id})[0]\n",
    "            bonus_amount = w_data['total_bonus_earned']\n",
    "        except: \n",
    "            q = collection.find({'worker_id':worker_id,'data_type':'single_trial'})\n",
    "            bonus_amount = q[q.count()-1]['bonus_earned']\n",
    "    else: \n",
    "        \n",
    "        has_data, w_data, bonus_amount = 0, 0, 0\n",
    "\n",
    "    return w_data, float('%.02f'%bonus_amount), has_data"
   ]
  },
  {
   "cell_type": "code",
   "execution_count": 464,
   "metadata": {
    "scrolled": false
   },
   "outputs": [
    {
     "name": "stdout",
     "output_type": "stream",
     "text": [
      "A3SDBPUAJB2SOV: already accepted compensation HIT,  already bonused for the original HIT\n",
      "A3LL096CAY5WHB: already accepted compensation HIT,  already bonused for the original HIT\n",
      "A1GS5CF02OYOV1: already accepted compensation HIT,  already bonused for the original HIT\n",
      "A12IHTKQFQIPD1: already accepted compensation HIT,  already bonused for the original HIT\n",
      "AXWJ324RX7D14: already accepted compensation HIT,  already bonused for the original HIT\n",
      "A2MDFKOD2G3R4D: already accepted compensation HIT,  already bonused for the original HIT\n",
      "A2IC4IMH7G9UKU: already accepted compensation HIT,  already bonused for the original HIT\n",
      "ASF5V3K4IFP4K: already accepted compensation HIT,  already bonused for the original HIT\n",
      "AMYKWOB2TH06O: already accepted compensation HIT,  already bonused for the original HIT\n",
      "A1WWD0MJ5C4G2G: already accepted compensation HIT,  already bonused for the original HIT\n",
      "A22Z03NU5RN6AZ: already accepted compensation HIT,  already bonused for the original HIT\n",
      "AJ741VY7A3MK1: already accepted compensation HIT,  already bonused for the original HIT\n",
      "A37GOGQDYDT44K: already accepted compensation HIT,  already bonused for the original HIT\n",
      "A1R907HJF0EC78: already accepted compensation HIT,  already bonused for the original HIT\n",
      "A2HPCY6M9H5QHW: already accepted compensation HIT,  already bonused for the original HIT\n",
      "A1V28M7MFJES4F: already accepted compensation HIT,  already bonused for the original HIT\n",
      "A184EIWAV7P9EH: already accepted compensation HIT,  already bonused for the original HIT\n",
      "A3CXK1KSRGU27V: already accepted compensation HIT,  already bonused for the original HIT\n",
      "ANQ1ENZJHWB8Z: already accepted compensation HIT,  already bonused for the original HIT\n",
      "A37XJVQF62ZYC: already accepted compensation HIT,  already bonused for the original HIT\n",
      "A5YBM0RP17IOZ: already accepted compensation HIT,  already bonused for the original HIT\n",
      "AGBDM3NKRKXBQ: already accepted compensation HIT,  already bonused for the original HIT\n",
      "A2PWQE7PMPZ02J: already accepted compensation HIT,  already bonused for the original HIT\n",
      "AA87I4LIAG09P: already accepted compensation HIT,  already bonused for the original HIT\n",
      "AGFYWCPRQIB6O: already accepted compensation HIT,  already bonused for the original HIT\n",
      "A1N4GMBT5ODBK1: already accepted compensation HIT,  already bonused for the original HIT\n",
      "A1I3QYJJU5ACFR: already accepted compensation HIT,  already bonused for the original HIT\n",
      "Nothing in database for A2IRBZJJEB9P5E\n",
      "A49A0FF6ZXYDU: already accepted compensation HIT,  already bonused for the original HIT\n"
     ]
    }
   ],
   "source": [
    "for i_worker in range(len(result)): \n",
    "    \n",
    "    worker_id = result[i_worker].WorkerId\n",
    "    assignment_id = result[i_worker].AssignmentId\n",
    "    w_data, bonus_amount, is_data = extract_worker_info(worker_id, 'match_to_sample')\n",
    "    \n",
    "    if is_data:\n",
    "        \n",
    "        try: \n",
    "            mtc.approve_assignment(assignment_id)\n",
    "            print('%s: accepted compensation HIT, '%worker_id, end=' ')\n",
    "        except: \n",
    "            print('%s: already accepted compensation HIT, '%worker_id, end=' ')\n",
    "        \n",
    "        \n",
    "        base_pay = 0.50\n",
    "        bonus_amount = bonus_amount + base_pay\n",
    "\n",
    "        directory = 'compensation_records'\n",
    "\n",
    "        if not os.path.exists(directory): os.makedirs(directory)\n",
    "\n",
    "        if not os.path.exists(directory + '/' + worker_id + '_' + assignment_id + '_' + str(bonus_amount) + '.npy'):\n",
    "\n",
    "            print('\\nworking on a compensation HIT for %s'%worker_id)\n",
    "\n",
    "            try: \n",
    "                print('n trials:', w_data['n_trials'])\n",
    "                print('duration:', w_data['experiment_duration'])\n",
    "                print('blocks_completed:', w_data['n_block'])\n",
    "                print('total_bonus_earned:', w_data['total_bonus_earned'])\n",
    "                print(w_data['worker_input'])\n",
    "\n",
    "            except: \n",
    "\n",
    "                print(\"no feedback data for subject\\n\")\n",
    "\n",
    "            bonus_amount = bonus_amount \n",
    "\n",
    "            MSG = input(\"Enter a custom message? Pressing enter reverts to default. \")\n",
    "            if len(MSG) == 0: MSG = \"Thanks so much for participating in our study!\"\n",
    "            BONUS = input(\"Amount to bonus worker? Pressing enter reverts to {} \".format(bonus_amount))\n",
    "            if len(BONUS) == 0: BONUS = bonus_amount\n",
    "            converted_bonus = boto.mturk.price.Price(BONUS) \n",
    "\n",
    "            s = mtc.grant_bonus(worker_id, assignment_id,  converted_bonus, MSG);\n",
    "            print('success!\\n')\n",
    "\n",
    "            compensation_info = {'time':datetime.datetime.now(), \n",
    "                                 'worker_id': worker_id, \n",
    "                                 'message':MSG, \n",
    "                                 'bonus_amount':bonus_amount,\n",
    "                                 'assignment_id':assignment_id, \n",
    "                                 'submission_response':{type(s): s}, \n",
    "                                 'worker_data':w_data}    \n",
    "\n",
    "            np.save(directory + '/' + worker_id + '_' + assignment_id + '_' + str(bonus_amount), compensation_info)\n",
    "\n",
    "        else: \n",
    "\n",
    "            print('already bonused for the original HIT')\n",
    "    else: \n",
    "        \n",
    "        print('Nothing in database for', worker_id)"
   ]
  },
  {
   "cell_type": "code",
   "execution_count": 310,
   "metadata": {},
   "outputs": [],
   "source": [
    "sean = collection.find({'worker_id':'A1I3QYJJU5ACFR', 'data_type':'worker_feedback'})"
   ]
  },
  {
   "cell_type": "code",
   "execution_count": 450,
   "metadata": {},
   "outputs": [],
   "source": [
    "def get_subject_payment_history(worker_id): \n",
    "    \n",
    "    comp = [i for i in os.listdir('compensation_records/') if worker_id in i]\n",
    "    compensation_hits = [np.load(os.path.join('compensation_records', i_comp)).item()  for i_comp in comp]\n",
    "    recent_payments = pandas.read_csv('transaction_history_6months.csv')\n",
    "    amazon_records = recent_payments[recent_payments['Recipient ID'] == worker_id]\n",
    "    \n",
    "    for i_sub in subs.keys(): \n",
    "        if 'subject_info' in subs[i_sub]:\n",
    "            if worker_id in subs[i_sub]['subject_info'].keys(): \n",
    "                bonus_info[subs[i_sub]['hit_id']] = subs[i_sub]['subject_info'][worker_id]\n",
    "    \n",
    "    return amazon_records, bonus_info, compensation_hits\n",
    "    "
   ]
  },
  {
   "cell_type": "code",
   "execution_count": null,
   "metadata": {},
   "outputs": [],
   "source": []
  },
  {
   "cell_type": "code",
   "execution_count": 455,
   "metadata": {},
   "outputs": [],
   "source": [
    "amazon, bonuses, comps = get_subject_payment_history('A1R907HJF0EC78 ')"
   ]
  },
  {
   "cell_type": "code",
   "execution_count": 456,
   "metadata": {},
   "outputs": [
    {
     "data": {
      "text/html": [
       "<div>\n",
       "<style scoped>\n",
       "    .dataframe tbody tr th:only-of-type {\n",
       "        vertical-align: middle;\n",
       "    }\n",
       "\n",
       "    .dataframe tbody tr th {\n",
       "        vertical-align: top;\n",
       "    }\n",
       "\n",
       "    .dataframe thead th {\n",
       "        text-align: right;\n",
       "    }\n",
       "</style>\n",
       "<table border=\"1\" class=\"dataframe\">\n",
       "  <thead>\n",
       "    <tr style=\"text-align: right;\">\n",
       "      <th></th>\n",
       "      <th>Transaction ID</th>\n",
       "      <th>Date Initiated</th>\n",
       "      <th>Date Posted</th>\n",
       "      <th>Transaction Type</th>\n",
       "      <th>Payment Method</th>\n",
       "      <th>Recipient ID</th>\n",
       "      <th>Amount</th>\n",
       "      <th>HIT ID</th>\n",
       "      <th>Assignment ID</th>\n",
       "    </tr>\n",
       "  </thead>\n",
       "  <tbody>\n",
       "  </tbody>\n",
       "</table>\n",
       "</div>"
      ],
      "text/plain": [
       "Empty DataFrame\n",
       "Columns: [Transaction ID, Date Initiated, Date Posted, Transaction Type, Payment Method, Recipient ID, Amount, HIT ID, Assignment ID]\n",
       "Index: []"
      ]
     },
     "execution_count": 456,
     "metadata": {},
     "output_type": "execute_result"
    }
   ],
   "source": [
    "amazon"
   ]
  },
  {
   "cell_type": "code",
   "execution_count": 457,
   "metadata": {},
   "outputs": [
    {
     "data": {
      "text/plain": [
       "{'39RRBHZ0AV1HM3LDS9R6OTMA76JVZL': {'assigned_bonus': 1,\n",
       "  'bonus_amount': 5.2,\n",
       "  'return_message': {boto.resultset.ResultSet: []}},\n",
       " '3BFNCI9LYLQEQKDOP4THEE1S7FO73S': {},\n",
       " '3UDTAB6HH7ZMNB2KLE9IQCURZTT093': {'assigned_bonus': 0,\n",
       "  'bonus_amount': 0,\n",
       "  'return_message': {boto.mturk.connection.MTurkRequestError: MTurkRequestError: 200 OK\n",
       "   <?xml version=\"1.0\"?>\n",
       "   <GrantBonusResponse><OperationRequest><RequestId>b51b332e-9d39-440e-8a92-bbadd82e77c1</RequestId></OperationRequest><GrantBonusResult><Request><IsValid>False</IsValid><Errors><Error><Code>AWS.MechanicalTurk.AssignmentDoesNotExist</Code><Message>Assignment 374TNBHA8CVRYPDL0Q0ETI9MUKUYQE does not exist. (1542041883746)</Message><Data><Key>AssignmentId</Key><Value>374TNBHA8CVRYPDL0Q0ETI9MUKUYQE</Value></Data></Error></Errors></Request></GrantBonusResult></GrantBonusResponse>}},\n",
       " '3L7SUC0TTVU1UVLEANDNVY0BZS00M2': {'assigned_bonus': 0,\n",
       "  'bonus_amount': 0,\n",
       "  'return_message': {boto.mturk.connection.MTurkRequestError: MTurkRequestError: 200 OK\n",
       "   <?xml version=\"1.0\"?>\n",
       "   <GrantBonusResponse><OperationRequest><RequestId>840dbc99-f02e-4453-b2ed-df18c5a99004</RequestId></OperationRequest><GrantBonusResult><Request><IsValid>False</IsValid><Errors><Error><Code>AWS.MechanicalTurk.AssignmentDoesNotExist</Code><Message>Assignment 3A9AA95ATXM8WP2MPBGSIGLJUJV5P5 does not exist. (1542041949153)</Message><Data><Key>AssignmentId</Key><Value>3A9AA95ATXM8WP2MPBGSIGLJUJV5P5</Value></Data></Error></Errors></Request></GrantBonusResult></GrantBonusResponse>}}}"
      ]
     },
     "execution_count": 457,
     "metadata": {},
     "output_type": "execute_result"
    }
   ],
   "source": [
    "bonuses"
   ]
  },
  {
   "cell_type": "code",
   "execution_count": 458,
   "metadata": {},
   "outputs": [
    {
     "data": {
      "text/plain": [
       "[]"
      ]
     },
     "execution_count": 458,
     "metadata": {},
     "output_type": "execute_result"
    }
   ],
   "source": [
    "comps"
   ]
  },
  {
   "cell_type": "code",
   "execution_count": 462,
   "metadata": {},
   "outputs": [
    {
     "name": "stdout",
     "output_type": "stream",
     "text": [
      "A12IHTKQFQIPD1_33SA9F9TRYUYCHSGCYNQE4ZS0FUWE1_1.92.npy\r\n",
      "A184EIWAV7P9EH_3E7TUJ2EGDMI8F18NS2EU29W24JD9E_0.52.npy\r\n",
      "A1GS5CF02OYOV1_3SITXWYCNW9FUELMCCHMFF7E6KMXBU_4.78.npy\r\n",
      "A1I3QYJJU5ACFR_3WAKVUDHUXG0BYO1UQUJQ6METIG7U4_6.08.npy\r\n",
      "A1N4GMBT5ODBK1_3RJSC4XJ11U588Y28Q123FKBMLO05I_7.48.npy\r\n",
      "A1R907HJF0EC78_3QL2OFSM97ITSPZOO6Q8SXMYMS3NC0_0.52.npy\r\n",
      "A1V28M7MFJES4F_3TR2532VIQU8TIZ2ZHLDDQD7HN26J4_6.72.npy\r\n",
      "A1WWD0MJ5C4G2G_31Z0PCVWULFLBL9CUL49LA0CAZK7TE_5.88.npy\r\n",
      "A1ZRK6K5JUPJAV_3WT783CTPCHRRGARLGLZ12M44TLCBB_0.5.npy\r\n",
      "A1ZRK6K5JUPJAV_3WT783CTPCHRRGARLGLZ12M44TLCBB_5.44.npy\r\n",
      "A207T1T5FX6H7D_3V0Z7YWSIZ0T2CGVT4NTQ17PVVBV2G_0.5.npy\r\n",
      "A207T1T5FX6H7D_3V0Z7YWSIZ0T2CGVT4NTQ17PVVBV2G_5.55.npy\r\n",
      "A22Z03NU5RN6AZ_3CFVK00FWMLEO8N222XQT5QZLBIL6U_4.9.npy\r\n",
      "A2HPCY6M9H5QHW_3YMU66OBIO8EZ5TINURED4AHY8VHG4_5.22.npy\r\n",
      "A2IC4IMH7G9UKU_3H7XDTSHKDRWWVO7ITDEE7K4DWDWGO_5.98.npy\r\n",
      "A2MDFKOD2G3R4D_3OCHAWUVGPKGNHPGIPUFEIQ4TFYXKJ_0.76.npy\r\n",
      "A2MDFKOD2G3R4D_3OCHAWUVGPKGNHPGIPUFEIQ4TFYXKJ_4.74.npy\r\n",
      "A2PWQE7PMPZ02J_37WLF8U1WQQ3425KH2LPE5DKWCRK66_0.52.npy\r\n",
      "A37GOGQDYDT44K_3Z3ZLGNNSJUQIMGXB57O3OD9LQB3Q3_4.86.npy\r\n",
      "A37XJVQF62ZYC_3VP0C6EFSHWYUQ5N2EY5TI5OLGB6MK_5.92.npy\r\n",
      "A3CXK1KSRGU27V_35GMH2SV3FHQ78JELCWGXAM6XFKOEA_6.9.npy\r\n",
      "A3LL096CAY5WHB_3G2UL9A02EEF9NY0Y8WGA08YQQW76O_1.7.npy\r\n",
      "A3SDBPUAJB2SOV_3E7TUJ2EGDMI8F18NS2EU29W2279DU_4.140000000000001.npy\r\n",
      "A49A0FF6ZXYDU_3VSOLARPKC9KQNZBU3W2HTNKC9L39Y_5.72.npy\r\n",
      "A5YBM0RP17IOZ_3KXIR214I5GU8ZXG98M6HB7CJLY24G_7.12.npy\r\n",
      "AA87I4LIAG09P_3ZPPDN2SLWWN0LF8JNDY0KRH2HUE9K_3.46.npy\r\n",
      "AGBDM3NKRKXBQ_30BUDKLTXEV4ZYDWGX0HO4MFGKL5ES_0.52.npy\r\n",
      "AGFYWCPRQIB6O_3SEPORI8WOZZGZG97G5BHP3JW5RZAW_7.84.npy\r\n",
      "AJ741VY7A3MK1_3FUI0JHJPYYYBLAVDUVSQGKYBYS33V_6.64.npy\r\n",
      "AMYKWOB2TH06O_3U0SRXB7CE5XYRO763G3HSLKMTONRO_0.6.npy\r\n",
      "AMYKWOB2TH06O_3U0SRXB7CE5XYRO763G3HSLKMTONRO_6.14.npy\r\n",
      "ANQ1ENZJHWB8Z_3WQQ9FUS6BUPFDKE445UZGQLFD5B8W_5.62.npy\r\n",
      "ASF5V3K4IFP4K_3UXUOQ9OKFXGWPA3OLDSQ5AKMAU7AO_5.72.npy\r\n",
      "ASF5V3K4IFP4K_3UXUOQ9OKFXGWPA3OLDSQ5AKMAU7AO_6.08.npy\r\n",
      "AXWJ324RX7D14_3UOUJI6MTEEUQDUSC3YHK5Z2V6VUXC_6.54.npy\r\n"
     ]
    }
   ],
   "source": [
    "ls compensation_records/"
   ]
  },
  {
   "cell_type": "code",
   "execution_count": 557,
   "metadata": {},
   "outputs": [],
   "source": [
    "checking_manually = {'name': 'Ed', 'worker_id': 'A1EMGNGMUONXPG'}\n",
    "subject_info = collection.find({'worker_id':checking_manually['worker_id']})\n",
    "subject_bonus = [i['bonus_earned'] for i in subject_info if 'bonus_earned' in i]\n",
    "max_bonus = np.round(max(subject_bonus),2)"
   ]
  },
  {
   "cell_type": "code",
   "execution_count": 558,
   "metadata": {},
   "outputs": [
    {
     "data": {
      "image/png": "[encoded data removed]",
      "text/plain": [
       "<Figure size 432x288 with 1 Axes>"
      ]
     },
     "metadata": {
      "needs_background": "light"
     },
     "output_type": "display_data"
    }
   ],
   "source": [
    "\n",
    "ylabel('$   ', fontsize=20, rotation=0)\n",
    "xlabel('trials')\n",
    "title(\"%s's bonus over time, max=%.02f\"%(checking_manually['name'], max_bonus))\n",
    "plot(subject_bonus); \n"
   ]
  },
  {
   "cell_type": "code",
   "execution_count": 554,
   "metadata": {},
   "outputs": [
    {
     "data": {
      "text/plain": [
       "['AGBDM3NKRKXBQ_30BUDKLTXEV4ZYDWGX0HO4MFGKL5ES_0.52.npy']"
      ]
     },
     "execution_count": 554,
     "metadata": {},
     "output_type": "execute_result"
    }
   ],
   "source": [
    "[i for i in os.listdir('compensation_records/') if k_id in i]"
   ]
  },
  {
   "cell_type": "code",
   "execution_count": 555,
   "metadata": {},
   "outputs": [
    {
     "name": "stdout",
     "output_type": "stream",
     "text": [
      "A1R907HJF0EC78: already accepted compensation HIT,  \n",
      "working on a compensation HIT for A1R907HJF0EC78\n",
      "no feedback data for subject\n",
      "\n",
      "Enter a custom message? Pressing enter reverts to default. Sorry for the hassle!\n",
      "Amount to bonus worker? Pressing enter reverts to 2.74 \n",
      "success!\n",
      "\n"
     ]
    }
   ],
   "source": [
    "compensate_worker('A1R907HJF0EC78', '3QL2OFSM97ITSPZOO6Q8SXMYMS3NC0', max_bonus-.50)"
   ]
  },
  {
   "cell_type": "code",
   "execution_count": 465,
   "metadata": {},
   "outputs": [],
   "source": [
    "def compensate_worker(worker_id, assignment_id, bonus_amount):   \n",
    "\n",
    "    try: \n",
    "        mtc.approve_assignment(assignment_id)\n",
    "        print('%s: accepted compensation HIT, '%worker_id, end=' ')\n",
    "    except: \n",
    "        print('%s: already accepted compensation HIT, '%worker_id, end=' ')\n",
    "\n",
    "    base_pay = 0.50\n",
    "    bonus_amount = bonus_amount + base_pay\n",
    "\n",
    "    directory = 'compensation_records'\n",
    "\n",
    "    if not os.path.exists(directory): os.makedirs(directory)\n",
    "\n",
    "    if not os.path.exists(directory + '/' + worker_id + '_' + assignment_id + '_' + str(bonus_amount) + '.npy'):\n",
    "\n",
    "        print('\\nworking on a compensation HIT for %s'%worker_id)\n",
    "\n",
    "        try: \n",
    "            print('n trials:', w_data['n_trials'])\n",
    "            print('duration:', w_data['experiment_duration'])\n",
    "            print('blocks_completed:', w_data['n_block'])\n",
    "            print('total_bonus_earned:', w_data['total_bonus_earned'])\n",
    "            print(w_data['worker_input'])\n",
    "\n",
    "        except: \n",
    "\n",
    "            print(\"no feedback data for subject\\n\")\n",
    "\n",
    "        bonus_amount = bonus_amount \n",
    "\n",
    "        MSG = input(\"Enter a custom message? Pressing enter reverts to default. \")\n",
    "        if len(MSG) == 0: MSG = \"Thanks so much for participating in our study!\"\n",
    "        BONUS = input(\"Amount to bonus worker? Pressing enter reverts to {} \".format(bonus_amount))\n",
    "        if len(BONUS) == 0: BONUS = bonus_amount\n",
    "        converted_bonus = boto.mturk.price.Price(BONUS) \n",
    "\n",
    "        s = mtc.grant_bonus(worker_id, assignment_id,  converted_bonus, MSG);\n",
    "        print('success!\\n')\n",
    "\n",
    "        compensation_info = {'time':datetime.datetime.now(), \n",
    "                             'worker_id': worker_id, \n",
    "                             'message':MSG, \n",
    "                             'bonus_amount':bonus_amount,\n",
    "                             'assignment_id':assignment_id, \n",
    "                             'submission_response':{type(s): s}, \n",
    "                             'worker_data':w_data}    \n",
    "\n",
    "        np.save(directory + '/' + worker_id + '_' + assignment_id + '_' + str(bonus_amount), compensation_info)\n",
    "\n",
    "    else: \n",
    "\n",
    "        print('already bonused for the original HIT')"
   ]
  }
 ],
 "metadata": {
  "kernelspec": {
   "display_name": "Python 3",
   "language": "python",
   "name": "python3"
  },
  "language_info": {
   "codemirror_mode": {
    "name": "ipython",
    "version": 3
   },
   "file_extension": ".py",
   "mimetype": "text/x-python",
   "name": "python",
   "nbconvert_exporter": "python",
   "pygments_lexer": "ipython3",
   "version": "3.7.0"
  }
 },
 "nbformat": 4,
 "nbformat_minor": 2
}
