{
 "cells": [
  {
   "cell_type": "code",
   "execution_count": 20,
   "metadata": {
    "scrolled": true
   },
   "outputs": [],
   "source": [
    "# ! ssh -fNL 27017:localhost:27017 bonnen@rxdhawkins.me"
   ]
  },
  {
   "cell_type": "code",
   "execution_count": 107,
   "metadata": {},
   "outputs": [],
   "source": [
    "import datetime, os, json, boto, pymongo, numpy, h5py\n",
    "import numpy as np\n",
    "from sklearn.metrics import confusion_matrix\n",
    "from boto.mturk.connection import MTurkConnection\n",
    "a = np.array"
   ]
  },
  {
   "cell_type": "code",
   "execution_count": 108,
   "metadata": {},
   "outputs": [],
   "source": [
    "live = 1\n",
    "mturk_platform = 'live'\n",
    "credential_locations = '../credentials/'"
   ]
  },
  {
   "cell_type": "code",
   "execution_count": 109,
   "metadata": {},
   "outputs": [],
   "source": [
    "# bonus subject\n",
    "host = 'mechanicalturk.amazonaws.com'\n",
    "# extract account info and define platform\n",
    "key_info = np.load(credential_locations + 'snail_rootkey.npy').item()\n",
    "if live: host = 'mechanicalturk.amazonaws.com'\n",
    "else: host = 'mechanicalturk.sandbox.amazonaws.com'\n",
    "# establish mturk connection\n",
    "mturk = MTurkConnection(aws_access_key_id=key_info['AWSAccessKeyId'],\n",
    "                        aws_secret_access_key=key_info['AWSSecretKey'],\n",
    "                        host=host)"
   ]
  },
  {
   "cell_type": "code",
   "execution_count": 110,
   "metadata": {},
   "outputs": [],
   "source": [
    "# extract hit info from submission inventory\n",
    "submission_file = 'HIT_submission_records_%s.npy'%(mturk_platform)\n",
    "submission_records = np.load(submission_file).item()\n",
    "submissions = submission_records.keys()"
   ]
  },
  {
   "cell_type": "code",
   "execution_count": 111,
   "metadata": {},
   "outputs": [],
   "source": [
    "access_info = json.load(open(credential_locations + 'auth.json'))\n",
    "\n",
    "# open tunnel -- requires established connection [ssh -fNL 27017:localhost:27017 bonnen@rxdhawkins.m]\n",
    "mongo_tunnel = 'mongodb://' + access_info['user'] + ':' + access_info['password'] + '@127.0.0.1'\n",
    "\n",
    "# conect, define collection and database\n",
    "connection = pymongo.MongoClient(mongo_tunnel)\n",
    "data_base = connection['task_stream']\n",
    "collection = data_base['match_to_sample']"
   ]
  },
  {
   "cell_type": "code",
   "execution_count": 177,
   "metadata": {
    "scrolled": false
   },
   "outputs": [],
   "source": [
    "\n",
    "def get_hit_and_worker_ids(i_submission): \n",
    "\n",
    "    submission_info = submission_records[i_submission]\n",
    "    hit_id = submission_info['hit_id']\n",
    "    subject_ids = a(collection.find({'hit_id':hit_id}).distinct('worker_id'))\n",
    "    \n",
    "    return hit_id, subject_ids\n",
    "\n",
    "def generate_record_for_inventory(subject_ids, submission_records, i_submission): \n",
    "    \n",
    "    if len(subject_ids): \n",
    "        \n",
    "        try: \n",
    "            submission_records[i_submission]['subject_info'] \n",
    "        except: \n",
    "            submission_records[i_submission]['subject_info'] = {} \n",
    "            #print('creating new submission inventory... ')\n",
    "\n",
    "        for i_subject in subject_ids: \n",
    "\n",
    "            try: \n",
    "                submission_records[i_submission]['subject_info'][i_subject] \n",
    "            except: \n",
    "                submission_records[i_submission]['subject_info'][i_subject] = {} \n",
    "                #print('creating new subject inventory')\n",
    "    else: \n",
    "        \n",
    "        print('\\n no subject data \\n')\n",
    "        \n",
    "    return submission_records \n",
    "\n",
    "def bonus_protocol(subject_ids, hit_id, i_submission,manual=False, print_repeat=False, show_error=False): \n",
    "    \n",
    "    w_data = {i['worker_id']: i for i in collection.find({'hit_id':hit_id, \"data_type\":\"worker_feedback\"})}  \n",
    "\n",
    "    for i_subject in list(w_data.keys()): \n",
    "\n",
    "        assignment_id = w_data[i_subject]['assignment_id']\n",
    "        bonus_amount =  float('%.2f'%w_data[i_subject]['total_bonus_earned'])\n",
    "        converted_bonus = boto.mturk.price.Price(bonus_amount) \n",
    "\n",
    "        try: \n",
    "            submission_records[i_submission]['subject_info'][i_subject]\n",
    "            if submission_records[i_submission]['subject_info'][i_subject]['assigned_bonus'] == 1 : \n",
    "                needs_bonus = 0 \n",
    "            else: \n",
    "                needs_bonus = 1 \n",
    "        except: \n",
    "            needs_bonus = 1  \n",
    "\n",
    "        converted_bonus = performance_bonus = boto.mturk.price.Price(bonus_amount)\n",
    "\n",
    "        if needs_bonus: \n",
    "\n",
    "            if manual:\n",
    "                \n",
    "                try: \n",
    "                    print('n trials:', w_data[i_subject]['n_trials'])\n",
    "                    print('duration:', w_data[i_subject]['experiment_duration'])\n",
    "                    print('blocks_completed:', w_data[i_subject]['n_block'])\n",
    "                    print(w_data[i_subject]['worker_input'])\n",
    "                    print('bonus amount: %f'%bonus_amount)\n",
    "                except: \n",
    "                    print(\"no feedback data for subject\")\n",
    "                \n",
    "                MSG = input(\"Enter a custom message? Pressing enter reverts to default. \")\n",
    "                if len(MSG) == 0: MSG = \"Thanks for participating in our study, and apologies for the delay!\"\n",
    "                BONUS = input(\"Amount to bonus worker? Pressing enter reverts to {} \".format(bonus_amount))\n",
    "                if len(BONUS) == 0: BONUS = bonus_amount\n",
    "                converted_bonus = boto.mturk.price.Price(BONUS) \n",
    "                \n",
    "            else: \n",
    "                \n",
    "                # set criteria for increasing subjects bonus regardless of their performance\n",
    "                condition_a = (w_data[i_subject]['experiment_duration'] > 40) # > 40 minutes\n",
    "                condition_b = (w_data[i_subject]['total_bonus_earned'] < 5)   # < 5 dollars\n",
    "                condition_c = (w_data[i_subject]['n_trials'] > 300)           # > 300 trials \n",
    "                \n",
    "                if condition_a * condition_b * condition_c: \n",
    "                    orig_bonus = float('%.2f'%w_data[i_subject]['total_bonus_earned'])\n",
    "                    MSG = \"Thanks for participating in our study! We added %.2f to your bonus\"%(5 - orig_bonus)\n",
    "                    BONUS = 5. \n",
    "                    print(\"upgraded bonus from %.2f to %.2f\"%(orig_bonus, BONUS))\n",
    "                else: \n",
    "                    MSG = \"Thanks for participating in our study!\"\n",
    "                    BONUS = float('%.2f'%w_data[i_subject]['total_bonus_earned'])\n",
    "                \n",
    "                converted_bonus = boto.mturk.price.Price(BONUS) \n",
    "\n",
    "            try: \n",
    "                print('worker_id:', i_subject, \n",
    "                      ', experiment_duration:', np.round(w_data[i_subject]['experiment_duration'],2), \n",
    "                      ', n_trials:', w_data[i_subject]['n_trials'] ,  \n",
    "                      ', bonus:', converted_bonus, end=' ')\n",
    "                \n",
    "                s = mturk.grant_bonus(i_subject, assignment_id,  converted_bonus, MSG);\n",
    "                print('success!')\n",
    "                submission_records[i_submission]['subject_info'][i_subject]['assigned_bonus'] = 1\n",
    "                submission_records[i_submission]['subject_info'][i_subject]['bonus_amount'] = converted_bonus\n",
    "                submission_records[i_submission]['subject_info'][i_subject]['return_message']  = {type(s): s}\n",
    "\n",
    "            except Exception as e:\n",
    "\n",
    "                ERROR = {type(e):e}\n",
    "                submission_records[i_submission]['subject_info'][i_subject]['assigned_bonus'] = 0\n",
    "                submission_records[i_submission]['subject_info'][i_subject]['bonus_amount'] = 0 \n",
    "                submission_records[i_submission]['subject_info'][i_subject]['return_message']  = {type(e):e}\n",
    "                \n",
    "                print('ERROR') # me\"}\n",
    "\n",
    "            np.save(submission_file, submission_records)\n",
    "\n",
    "        else: \n",
    "\n",
    "            if print_repeat: print('already bonused %s'%i_subject)\n",
    "            \n",
    "    return submission_records"
   ]
  },
  {
   "cell_type": "code",
   "execution_count": 178,
   "metadata": {
    "scrolled": false
   },
   "outputs": [],
   "source": [
    "\n",
    "sub_completed = 342\n",
    "to_do = [i for i in submission_records.keys() if int(i[np.nonzero([j == '_' for j in i])[0][0]+1:]) > sub_completed]\n"
   ]
  },
  {
   "cell_type": "code",
   "execution_count": 134,
   "metadata": {
    "scrolled": false
   },
   "outputs": [
    {
     "name": "stdout",
     "output_type": "stream",
     "text": [
      "\n",
      " submission_343 \n",
      "\n",
      "already bonused A22N5ONOWPNZGB\n",
      "already bonused A1PFE8T2LNWFLV\n"
     ]
    }
   ],
   "source": [
    "\n",
    "for i_submission in to_do: \n",
    "    print('\\n', i_submission, '\\n')\n",
    "    hit_id, subject_ids = get_hit_and_worker_ids(i_submission)\n",
    "    submission_records = generate_record_for_inventory(subject_ids, submission_records, i_submission) \n",
    "    submission_records = bonus_protocol(subject_ids, hit_id, i_submission, manual=False, print_repeat=True) \n"
   ]
  },
  {
   "cell_type": "code",
   "execution_count": 163,
   "metadata": {},
   "outputs": [],
   "source": [
    "submission_keys = list(submission_records.keys())\n",
    "\n",
    "amounts = []\n",
    "\n",
    "for i_sub in submission_keys: \n",
    "    \n",
    "    if 'subject_info' in submission_records[i_sub].keys(): \n",
    "        \n",
    "        hit = submission_records[i_sub]['subject_info']\n",
    "\n",
    "        s_bonuses = [hit[i_sub]['bonus_amount'] for i_sub in hit.keys() if 'bonus_amount' in hit[i_sub].keys()]\n",
    "        amounts.extend(s_bonuses)\n",
    "\n"
   ]
  }
 ],
 "metadata": {
  "kernelspec": {
   "display_name": "Python 3",
   "language": "python",
   "name": "python3"
  },
  "language_info": {
   "codemirror_mode": {
    "name": "ipython",
    "version": 3
   },
   "file_extension": ".py",
   "mimetype": "text/x-python",
   "name": "python",
   "nbconvert_exporter": "python",
   "pygments_lexer": "ipython3",
   "version": "3.6.7"
  }
 },
 "nbformat": 4,
 "nbformat_minor": 2
}
