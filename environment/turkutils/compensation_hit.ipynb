{
 "cells": [
  {
   "cell_type": "code",
   "execution_count": null,
   "metadata": {},
   "outputs": [],
   "source": [
    "import warnings; warnings.simplefilter('ignore')\n",
    "from boto.mturk.connection import MTurkConnection\n",
    "from boto.mturk.question import ExternalQuestion\n",
    "from dateutil.parser import *\n",
    "from boto.mturk.question import HTMLQuestion\n",
    "import numpy as np\n",
    "import datetime, hashlib, boto, os, pymongo, json, pandas"
   ]
  },
  {
   "cell_type": "code",
   "execution_count": 25,
   "metadata": {},
   "outputs": [
    {
     "name": "stdout",
     "output_type": "stream",
     "text": [
      "Populating the interactive namespace from numpy and matplotlib\n"
     ]
    }
   ],
   "source": [
    "%pylab inline"
   ]
  },
  {
   "cell_type": "code",
   "execution_count": 26,
   "metadata": {},
   "outputs": [],
   "source": [
    "# ! ssh -fNL 27017:localhost:27017 bonnen@rxdhawkins.me"
   ]
  },
  {
   "cell_type": "code",
   "execution_count": 3,
   "metadata": {},
   "outputs": [],
   "source": [
    "# conect to the mongodb\n",
    "data = json.load(open('/Users/biota/snail/taskstream/tasks/credentials/auth.json'))\n",
    "mongo_tunnel = 'mongodb://' + data['user'] + ':' + data['password'] + '@127.0.0.1'\n",
    "connection = pymongo.MongoClient(mongo_tunnel)\n",
    "data_base = connection['task_stream']\n",
    "collection = data_base['match_to_sample']"
   ]
  },
  {
   "cell_type": "code",
   "execution_count": 5,
   "metadata": {},
   "outputs": [],
   "source": [
    "\n",
    "in_progress = {} \n"
   ]
  },
  {
   "cell_type": "code",
   "execution_count": 6,
   "metadata": {},
   "outputs": [],
   "source": [
    "\n",
    "key_info = np.load('/Users/biota/snail/taskstream/tasks/credentials/snail_rootkey.npy').item()\n"
   ]
  },
  {
   "cell_type": "code",
   "execution_count": 7,
   "metadata": {},
   "outputs": [],
   "source": [
    "context = 'sandbox'\n",
    "\n",
    "if context == 'sandbox':\n",
    "    \n",
    "    host = 'mechanicalturk.sandbox.amazonaws.com'\n",
    "    hit_url = 'https://workersandbox.mturk.com/mturk/preview?groupId='\n",
    "    external_submit = 'https://workersandbox.mturk.com/mturk/externalSubmit'\n",
    "\n",
    "elif context == 'live':\n",
    "\n",
    "    print('okay... this one is for real!\\n')\n",
    "    host = 'mechanicalturk.amazonaws.com'\n",
    "    hit_url = 'https://www.mturk.com/mturk/preview?groupId='\n",
    "    external_submit = \"https://www.mturk.com/mturk/externalSubmit\"\n"
   ]
  },
  {
   "cell_type": "code",
   "execution_count": null,
   "metadata": {},
   "outputs": [],
   "source": [
    "hit_compensation_amount = 0.01"
   ]
  },
  {
   "cell_type": "code",
   "execution_count": 8,
   "metadata": {},
   "outputs": [],
   "source": [
    "\n",
    "# generate password from the worker id and current time\n",
    "time_code = datetime.datetime.now()\n",
    "unique_key = str(time_code)\n",
    "password = hashlib.md5(unique_key.encode()).hexdigest()\n"
   ]
  },
  {
   "cell_type": "code",
   "execution_count": 9,
   "metadata": {},
   "outputs": [],
   "source": [
    "question_html_format = open('question.txt', 'r').read()%(password, external_submit, len(password)+5)"
   ]
  },
  {
   "cell_type": "code",
   "execution_count": 11,
   "metadata": {},
   "outputs": [],
   "source": [
    "\n",
    "question_contents = HTMLQuestion(question_html_format, 600)\n"
   ]
  },
  {
   "cell_type": "code",
   "execution_count": 12,
   "metadata": {},
   "outputs": [],
   "source": [
    "\n",
    "mtc = MTurkConnection(aws_access_key_id= key_info['AWSAccessKeyId'], \n",
    "                      aws_secret_access_key=key_info['AWSSecretKey'], \n",
    "                      host=host)\n"
   ]
  },
  {
   "cell_type": "code",
   "execution_count": 13,
   "metadata": {},
   "outputs": [],
   "source": [
    "\n",
    "\n",
    "response = mtc.create_hit(question=question_contents,\n",
    "                          max_assignments=1,\n",
    "                          title=\"A compensation HIT for workers with the Stanford Neuro AI lab\",\n",
    "                          description=\"All other workers will be rejected\",\n",
    "                          keywords=\"personalized HIT\",\n",
    "                          duration=60,\n",
    "                          reward=hit_compensation_amount,\n",
    "                          approval_delay=None)\n"
   ]
  },
  {
   "cell_type": "code",
   "execution_count": 14,
   "metadata": {},
   "outputs": [
    {
     "name": "stdout",
     "output_type": "stream",
     "text": [
      "\n",
      "\n",
      "password: 7bca83a06657e1446365b1843d2d3969 \n",
      "url: https://workersandbox.mturk.com/mturk/preview?groupId=373MH2DFEY0QGOHSOZEF50U4BDXHB8 \n",
      "\n",
      "\n"
     ]
    }
   ],
   "source": [
    "if response.status: \n",
    "    \n",
    "    for i in range(len(response)): \n",
    "\n",
    "        hit_type_id = response[i].HITTypeId\n",
    "        hit_id = response[i].HITId   \n",
    "        in_progress[hit_id] = {'bonus_amount':hit_compensation_amount}\n",
    "\n",
    "        print('\\n\\npassword:', password, '\\nurl:',  hit_url + hit_type_id, '\\n\\n')\n",
    "        "
   ]
  },
  {
   "cell_type": "code",
   "execution_count": 27,
   "metadata": {},
   "outputs": [
    {
     "name": "stdout",
     "output_type": "stream",
     "text": [
      "A33F2FVAMGJDGG : already accepted HIT\n"
     ]
    }
   ],
   "source": [
    "\n",
    "\n",
    "result = mtc.get_assignments(hit_id, page_size=100)\n",
    "\n",
    "if len(result): \n",
    "\n",
    "    for i_result in range(len(result)): \n",
    "        worker_id = result[i_result].WorkerId\n",
    "        assignment_id = result[i_result].AssignmentId\n",
    "        print(worker_id, ':', end=' ')\n",
    "        try: \n",
    "            mtc.approve_assignment(assignment_id)\n",
    "            print('accepted HIT')\n",
    "        except: \n",
    "            print('already accepted HIT')\n",
    "\n",
    "hit_id = list(in_progress)[0]\n"
   ]
  },
  {
   "cell_type": "code",
   "execution_count": 28,
   "metadata": {},
   "outputs": [],
   "source": [
    "def extract_worker_info(worker_id, i_collection): \n",
    "    \n",
    "    w_data, bonus_amount = '', ''\n",
    " \n",
    "    if collection.find({'worker_id':worker_id}).count(): \n",
    "        \n",
    "        has_data = 1 \n",
    "        try: \n",
    "            w_data = collection.find({'worker_id':worker_id, \n",
    "                                      \"data_type\":\"worker_feedback\", \n",
    "                                      'assignment_id':assignment_id})[0]\n",
    "            bonus_amount = w_data['total_bonus_earned']\n",
    "        except: \n",
    "            q = collection.find({'worker_id':worker_id,'data_type':'single_trial'})\n",
    "            bonus_amount = q[q.count()-1]['bonus_earned']\n",
    "    else: \n",
    "        \n",
    "        has_data, w_data, bonus_amount = 0, 0, 0\n",
    "\n",
    "    return w_data, float('%.02f'%bonus_amount), has_data"
   ]
  },
  {
   "cell_type": "code",
   "execution_count": 29,
   "metadata": {
    "scrolled": false
   },
   "outputs": [
    {
     "name": "stdout",
     "output_type": "stream",
     "text": [
      "A33F2FVAMGJDGG: already accepted compensation HIT,  \n",
      "working on a compensation HIT for A33F2FVAMGJDGG\n",
      "no feedback data for subject\n",
      "\n",
      "Enter a custom message? Pressing enter reverts to default. great job tyler :D \n",
      "Amount to bonus worker? Pressing enter reverts to 0.54 5.42\n",
      "success!\n",
      "\n"
     ]
    }
   ],
   "source": [
    "for i_worker in range(len(result)): \n",
    "    \n",
    "    worker_id = result[i_worker].WorkerId\n",
    "    assignment_id = result[i_worker].AssignmentId\n",
    "    w_data, bonus_amount, is_data = extract_worker_info(worker_id, 'match_to_sample')\n",
    "    \n",
    "    if is_data:\n",
    "        \n",
    "        try: \n",
    "            mtc.approve_assignment(assignment_id)\n",
    "            print('%s: accepted compensation HIT, '%worker_id, end=' ')\n",
    "        except: \n",
    "            print('%s: already accepted compensation HIT, '%worker_id, end=' ')\n",
    "        \n",
    "        \n",
    "        base_pay = 0.50\n",
    "        bonus_amount = bonus_amount + base_pay\n",
    "\n",
    "        directory = 'compensation_records'\n",
    "\n",
    "        if not os.path.exists(directory): os.makedirs(directory)\n",
    "\n",
    "        if not os.path.exists(directory + '/' + worker_id + '_' + assignment_id + '_' + str(bonus_amount) + '.npy'):\n",
    "\n",
    "            print('\\nworking on a compensation HIT for %s'%worker_id)\n",
    "\n",
    "            try: \n",
    "                print('n trials:', w_data['n_trials'])\n",
    "                print('duration:', w_data['experiment_duration'])\n",
    "                print('blocks_completed:', w_data['n_block'])\n",
    "                print('total_bonus_earned:', w_data['total_bonus_earned'])\n",
    "                print(w_data['worker_input'])\n",
    "\n",
    "            except: \n",
    "\n",
    "                print(\"no feedback data for subject\\n\")\n",
    "\n",
    "            bonus_amount = bonus_amount \n",
    "\n",
    "            MSG = input(\"Enter a custom message? Pressing enter reverts to default. \")\n",
    "            if len(MSG) == 0: MSG = \"Thanks so much for participating in our study!\"\n",
    "            BONUS = input(\"Amount to bonus worker? Pressing enter reverts to {} \".format(bonus_amount))\n",
    "            if len(BONUS) == 0: BONUS = bonus_amount\n",
    "            converted_bonus = boto.mturk.price.Price(BONUS) \n",
    "\n",
    "            s = mtc.grant_bonus(worker_id, assignment_id,  converted_bonus, MSG);\n",
    "            print('success!\\n')\n",
    "\n",
    "            compensation_info = {'time':datetime.datetime.now(), \n",
    "                                 'worker_id': worker_id, \n",
    "                                 'message':MSG, \n",
    "                                 'bonus_amount':bonus_amount,\n",
    "                                 'assignment_id':assignment_id, \n",
    "                                 'submission_response':{type(s): s}, \n",
    "                                 'worker_data':w_data}    \n",
    "\n",
    "            np.save(directory + '/' + worker_id + '_' + assignment_id + '_' + str(bonus_amount), compensation_info)\n",
    "\n",
    "        else: \n",
    "\n",
    "            print('already bonused for the original HIT')\n",
    "    else: \n",
    "        \n",
    "        print('Nothing in database for', worker_id)"
   ]
  },
  {
   "cell_type": "code",
   "execution_count": null,
   "metadata": {},
   "outputs": [],
   "source": [
    "def get_subject_payment_history(worker_id): \n",
    "    \n",
    "    comp = [i for i in os.listdir('compensation_records/') if worker_id in i]\n",
    "    compensation_hits = [np.load(os.path.join('compensation_records', i_comp)).item()  for i_comp in comp]\n",
    "    recent_payments = pandas.read_csv('transaction_history_6months.csv')\n",
    "    amazon_records = recent_payments[recent_payments['Recipient ID'] == worker_id]\n",
    "    \n",
    "    for i_sub in subs.keys(): \n",
    "        if 'subject_info' in subs[i_sub]:\n",
    "            if worker_id in subs[i_sub]['subject_info'].keys(): \n",
    "                bonus_info[subs[i_sub]['hit_id']] = subs[i_sub]['subject_info'][worker_id]\n",
    "    \n",
    "    return amazon_records, bonus_info, compensation_hits\n",
    "    "
   ]
  },
  {
   "cell_type": "code",
   "execution_count": 30,
   "metadata": {},
   "outputs": [],
   "source": [
    "def compensate_worker(worker_id, assignment_id, bonus_amount):   \n",
    "\n",
    "    try: \n",
    "        mtc.approve_assignment(assignment_id)\n",
    "        print('%s: accepted compensation HIT, '%worker_id, end=' ')\n",
    "    except: \n",
    "        print('%s: already accepted compensation HIT, '%worker_id, end=' ')\n",
    "\n",
    "    base_pay = 0.50\n",
    "    bonus_amount = bonus_amount + base_pay\n",
    "\n",
    "    directory = 'compensation_records'\n",
    "\n",
    "    if not os.path.exists(directory): os.makedirs(directory)\n",
    "\n",
    "    if not os.path.exists(directory + '/' + worker_id + '_' + assignment_id + '_' + str(bonus_amount) + '.npy'):\n",
    "\n",
    "        print('\\nworking on a compensation HIT for %s'%worker_id)\n",
    "\n",
    "        try: \n",
    "            print('n trials:', w_data['n_trials'])\n",
    "            print('duration:', w_data['experiment_duration'])\n",
    "            print('blocks_completed:', w_data['n_block'])\n",
    "            print('total_bonus_earned:', w_data['total_bonus_earned'])\n",
    "            print(w_data['worker_input'])\n",
    "\n",
    "        except: \n",
    "\n",
    "            print(\"no feedback data for subject\\n\")\n",
    "\n",
    "        bonus_amount = bonus_amount \n",
    "\n",
    "        MSG = input(\"Enter a custom message? Pressing enter reverts to default. \")\n",
    "        if len(MSG) == 0: MSG = \"Thanks so much for participating in our study!\"\n",
    "        BONUS = input(\"Amount to bonus worker? Pressing enter reverts to {} \".format(bonus_amount))\n",
    "        if len(BONUS) == 0: BONUS = bonus_amount\n",
    "        converted_bonus = boto.mturk.price.Price(BONUS) \n",
    "\n",
    "        s = mtc.grant_bonus(worker_id, assignment_id,  converted_bonus, MSG);\n",
    "        print('success!\\n')\n",
    "\n",
    "        compensation_info = {'time':datetime.datetime.now(), \n",
    "                             'worker_id': worker_id, \n",
    "                             'message':MSG, \n",
    "                             'bonus_amount':bonus_amount,\n",
    "                             'assignment_id':assignment_id, \n",
    "                             'submission_response':{type(s): s}, \n",
    "                             'worker_data':w_data}    \n",
    "\n",
    "        np.save(directory + '/' + worker_id + '_' + assignment_id + '_' + str(bonus_amount), compensation_info)\n",
    "\n",
    "    else: \n",
    "\n",
    "        print('already bonused for the original HIT')"
   ]
  },
  {
   "cell_type": "code",
   "execution_count": null,
   "metadata": {},
   "outputs": [],
   "source": []
  }
 ],
 "metadata": {
  "kernelspec": {
   "display_name": "Python 3",
   "language": "python",
   "name": "python3"
  },
  "language_info": {
   "codemirror_mode": {
    "name": "ipython",
    "version": 3
   },
   "file_extension": ".py",
   "mimetype": "text/x-python",
   "name": "python",
   "nbconvert_exporter": "python",
   "pygments_lexer": "ipython3",
   "version": "3.6.7"
  }
 },
 "nbformat": 4,
 "nbformat_minor": 2
}
