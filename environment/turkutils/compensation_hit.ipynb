{
 "cells": [
  {
   "cell_type": "code",
   "execution_count": 567,
   "metadata": {},
   "outputs": [],
   "source": [
    "import warnings; warnings.simplefilter('ignore')\n",
    "# /usr/bin/python\n",
    "from boto.mturk.connection import MTurkConnection\n",
    "from boto.mturk.question import ExternalQuestion\n",
    "from dateutil.parser import *\n",
    "from boto.mturk.question import HTMLQuestion\n",
    "import numpy as np\n",
    "import datetime, hashlib, boto, os, pymongo, json, pandas"
   ]
  },
  {
   "cell_type": "code",
   "execution_count": 568,
   "metadata": {},
   "outputs": [
    {
     "name": "stdout",
     "output_type": "stream",
     "text": [
      "Populating the interactive namespace from numpy and matplotlib\n"
     ]
    }
   ],
   "source": [
    "% pylab inline"
   ]
  },
  {
   "cell_type": "code",
   "execution_count": 569,
   "metadata": {},
   "outputs": [],
   "source": [
    "# conect to the mongodb\n",
    "data = json.load(open('../credentials/auth.json'))\n",
    "mongo_tunnel = 'mongodb://' + data['user'] + ':' + data['password'] + '@127.0.0.1'\n",
    "connection = pymongo.MongoClient(mongo_tunnel)\n",
    "data_base = connection['task_stream']\n",
    "collection = data_base['match_to_sample']"
   ]
  },
  {
   "cell_type": "code",
   "execution_count": 570,
   "metadata": {},
   "outputs": [],
   "source": [
    "\n",
    "tyler_id = 'A33F2FVAMGJDGG'\n"
   ]
  },
  {
   "cell_type": "code",
   "execution_count": 571,
   "metadata": {},
   "outputs": [],
   "source": [
    "\n",
    "in_progress = {} \n"
   ]
  },
  {
   "cell_type": "code",
   "execution_count": 572,
   "metadata": {},
   "outputs": [],
   "source": [
    "\n",
    "key_info = np.load('../credentials/snail_rootkey.npy').item()\n"
   ]
  },
  {
   "cell_type": "code",
   "execution_count": 639,
   "metadata": {},
   "outputs": [
    {
     "name": "stdout",
     "output_type": "stream",
     "text": [
      "okay... this one is for real!\n",
      "\n"
     ]
    }
   ],
   "source": [
    "context = 'live'\n",
    "\n",
    "if context == 'sandbox':\n",
    "    \n",
    "    host = 'mechanicalturk.sandbox.amazonaws.com'\n",
    "    hit_url = 'https://workersandbox.mturk.com/mturk/preview?groupId='\n",
    "    external_submit = 'https://workersandbox.mturk.com/mturk/externalSubmit'\n",
    "\n",
    "elif context == 'live':\n",
    "\n",
    "    print('okay... this one is for real!\\n')\n",
    "    host = 'mechanicalturk.amazonaws.com'\n",
    "    hit_url = 'https://www.mturk.com/mturk/preview?groupId='\n",
    "    external_submit = \"https://www.mturk.com/mturk/externalSubmit\"\n"
   ]
  },
  {
   "cell_type": "code",
   "execution_count": 640,
   "metadata": {},
   "outputs": [],
   "source": [
    "\n",
    "# generate password from the worker id and current time\n",
    "time_code = datetime.datetime.now()\n",
    "unique_key = str(time_code)\n",
    "password = hashlib.md5(unique_key.encode()).hexdigest()\n"
   ]
  },
  {
   "cell_type": "code",
   "execution_count": 641,
   "metadata": {},
   "outputs": [],
   "source": [
    "# HIT HTML: instructions, text box, password submit button, success (or error) message, and HIT submit button\n",
    "question_html_format = \"\"\"\n",
    "<html>\n",
    "\n",
    "  <head>\n",
    "\n",
    "    <style>\n",
    "    #main\n",
    "    {\n",
    "     margin: 100px auto;\n",
    "     width: 900px;\n",
    "     text-align:center;\n",
    "    }\n",
    "    </style>\n",
    "\n",
    "    <meta http-equiv='Content-Type' content='text/html; charset=UTF-8'/>\n",
    "    <script src='https://s3.amazonaws.com/mturk-public/externalHIT_v1.js' type='text/javascript'></script>\n",
    "\n",
    "    <script>\n",
    "\n",
    "     function turkGetParam( name, defaultValue )\n",
    "     {\n",
    "       var regexS = \"[\\?&]\"+name+\"=([^&#]*)\";\n",
    "       var regex = new RegExp( regexS );\n",
    "       var tmpURL = window.location.href;\n",
    "       var results = regex.exec( tmpURL );\n",
    "\n",
    "       if( results == null )\n",
    "         { return defaultValue }\n",
    "       else\n",
    "         { return results[1]}\n",
    "      }\n",
    "\n",
    "      var worker_id_from_webpage = turkGetParam( 'workerId', 'NONE' )\n",
    "\n",
    "      var user_input = '%s'\n",
    "\n",
    "      function myFunction() {\n",
    "\n",
    "        password_match = document.getElementById('text_box_input').value === user_input\n",
    "\n",
    "        if ( password_match )\n",
    "        {\n",
    "          document.getElementById(\"correct_message\").style.color = \"blue\";\n",
    "          document.getElementById(\"submit_password\").style.display = \"none\";\n",
    "          document.getElementById(\"correct_message\").style.display = \"block\"\n",
    "          document.getElementById(\"submitButton\").style.display = \"inline-block\"\n",
    "        }\n",
    "        else\n",
    "        {\n",
    "          document.getElementById(\"error_message\").style.color = \"red\";\n",
    "          document.getElementById(\"error_message\").style.display = \"block\";}\n",
    "        }\n",
    "\n",
    "    </script>\n",
    "\n",
    "  </head>\n",
    "\n",
    "  <body>\n",
    "\n",
    "    <!-- HTML to handle creating the HIT form -->\n",
    "\n",
    "    <div id='main'>\n",
    "\n",
    "      <p id=\"error_message\" style='display:none; font-size:20px'>\n",
    "      You must acccept this HIT for the identity validation step to be successful <br/>\n",
    "      If you continue getting this message and believe it is an error, send the experimenter an email<br/><br/>\n",
    "      Otherwise, please return this HIT! <br/>\n",
    "      The person who this was indended for wont get paid until you do :(\n",
    "      </p>\n",
    "      <p id=\"correct_message\" style='display:none; font-size:20px'>\n",
    "      Thanks so much!<br/>\n",
    "      We appreciate your time and apologize for the hassle :)<br/>\n",
    "      Press \"Submit\" to receive your compensation. It may take up to 24 hours to complete. \n",
    "      </p>\n",
    "\n",
    "      <form name='mturk_form' method='post' id='mturk_form' action='%s'>\n",
    "\n",
    "        <input type='hidden' value='' name='assignmentId' id='assignmentId'/>\n",
    "        <!-- set question for subject -->\n",
    "        <h2>Please enter your password</h2>\n",
    "        <p><textarea id='text_box_input' name='answer' rows=1 cols=%d></textarea></p>\n",
    "        <!-- HTML to handle submitting the HIT -->\n",
    "        <p><input type='submit' id='submitButton' value='Submit' style='display:none'/></p></form>\n",
    "        <p><input type='submit' id='submit_password' value='PASSWORD SUBMIT' onclick=\"myFunction()\"/></p>\n",
    "\n",
    "    </div>\n",
    "    <script language='Javascript'>turkSetAssignmentID();</script>\n",
    "  </body>\n",
    "\n",
    "</html>\n",
    "\"\"\"                     %(password, external_submit, len(password)+5)"
   ]
  },
  {
   "cell_type": "code",
   "execution_count": 642,
   "metadata": {},
   "outputs": [],
   "source": [
    "\n",
    "question_contents = HTMLQuestion(question_html_format, 600)\n"
   ]
  },
  {
   "cell_type": "code",
   "execution_count": 644,
   "metadata": {},
   "outputs": [],
   "source": [
    "\n",
    "mtc = MTurkConnection(aws_access_key_id= key_info['AWSAccessKeyId'], \n",
    "                      aws_secret_access_key=key_info['AWSSecretKey'], \n",
    "                      host=host)\n"
   ]
  },
  {
   "cell_type": "code",
   "execution_count": 645,
   "metadata": {},
   "outputs": [],
   "source": [
    "hit_compensation_amount = 0.01\n",
    "\n",
    "response = mtc.create_hit(question=question_contents,\n",
    "                          max_assignments=9,\n",
    "                          title=\"A compensation HIT for workers with the Stanford Neuro AI lab\",\n",
    "                          description=\"All other workers will be rejected\",\n",
    "                          keywords=\"personalized HIT\",\n",
    "                          duration=60*60*60,\n",
    "                          reward=hit_compensation_amount,\n",
    "                          approval_delay=None)\n"
   ]
  },
  {
   "cell_type": "code",
   "execution_count": 646,
   "metadata": {},
   "outputs": [
    {
     "name": "stdout",
     "output_type": "stream",
     "text": [
      "\n",
      "\n",
      "password: 29d6344f67bca80c302d6e7071f619fc \n",
      "url: https://www.mturk.com/mturk/preview?groupId=3Y7FOS1S79CMDPT3KIK19HN0CDN5SG \n",
      "\n",
      "\n"
     ]
    }
   ],
   "source": [
    "if response.status: \n",
    "    \n",
    "    for i in range(len(response)): \n",
    "\n",
    "        hit_type_id = response[i].HITTypeId\n",
    "        hit_id = response[i].HITId   \n",
    "        in_progress[hit_id] = {'bonus_amount':hit_compensation_amount}\n",
    "\n",
    "        print('\\n\\npassword:', password, '\\nurl:',  hit_url + hit_type_id, '\\n\\n')"
   ]
  },
  {
   "cell_type": "code",
   "execution_count": 179,
   "metadata": {},
   "outputs": [],
   "source": [
    "# nov 13th\n",
    "# password: a9665ed4ad144ed9b0fe55c5ccac611e \n",
    "# url: https://www.mturk.com/mturk/preview?groupId=3Y7FOS1S79CMDPT3KIK19HN0CDN5SG \n"
   ]
  },
  {
   "cell_type": "code",
   "execution_count": 652,
   "metadata": {},
   "outputs": [
    {
     "name": "stdout",
     "output_type": "stream",
     "text": [
      "A1EMGNGMUONXPG : already accepted HIT\n",
      "A28ZPY6D5AS7GZ : accepted HIT\n"
     ]
    }
   ],
   "source": [
    "\n",
    "\n",
    "result = mtc.get_assignments(hit_id, page_size=100)\n",
    "\n",
    "if len(result): \n",
    "\n",
    "    for i_result in range(len(result)): \n",
    "        worker_id = result[i_result].WorkerId\n",
    "        assignment_id = result[i_result].AssignmentId\n",
    "        print(worker_id, ':', end=' ')\n",
    "        try: \n",
    "            mtc.approve_assignment(assignment_id)\n",
    "            print('accepted HIT')\n",
    "        except: \n",
    "            print('already accepted HIT')\n",
    "            "
   ]
  },
  {
   "cell_type": "code",
   "execution_count": 286,
   "metadata": {},
   "outputs": [
    {
     "data": {
      "text/plain": [
       "('29', '29')"
      ]
     },
     "execution_count": 286,
     "metadata": {},
     "output_type": "execute_result"
    }
   ],
   "source": [
    "submissions = mtc.get_assignments(hit_id, page_size=100)\n",
    "submissions.NumResults, submissions.TotalNumResults"
   ]
  },
  {
   "cell_type": "code",
   "execution_count": 281,
   "metadata": {},
   "outputs": [],
   "source": []
  },
  {
   "cell_type": "code",
   "execution_count": 653,
   "metadata": {},
   "outputs": [],
   "source": [
    "hit_id = list(in_progress)[0]"
   ]
  },
  {
   "cell_type": "code",
   "execution_count": 654,
   "metadata": {},
   "outputs": [],
   "source": [
    "def extract_worker_info(worker_id, i_collection): \n",
    "    \n",
    "    w_data, bonus_amount = '', ''\n",
    " \n",
    "    if collection.find({'worker_id':worker_id}).count(): \n",
    "        \n",
    "        has_data = 1 \n",
    "        try: \n",
    "            w_data = collection.find({'worker_id':worker_id, \n",
    "                                      \"data_type\":\"worker_feedback\", \n",
    "                                      'assignment_id':assignment_id})[0]\n",
    "            bonus_amount = w_data['total_bonus_earned']\n",
    "        except: \n",
    "            q = collection.find({'worker_id':worker_id,'data_type':'single_trial'})\n",
    "            bonus_amount = q[q.count()-1]['bonus_earned']\n",
    "    else: \n",
    "        \n",
    "        has_data, w_data, bonus_amount = 0, 0, 0\n",
    "\n",
    "    return w_data, float('%.02f'%bonus_amount), has_data"
   ]
  },
  {
   "cell_type": "code",
   "execution_count": 655,
   "metadata": {
    "scrolled": false
   },
   "outputs": [
    {
     "name": "stdout",
     "output_type": "stream",
     "text": [
      "A1EMGNGMUONXPG: already accepted compensation HIT,  already bonused for the original HIT\n",
      "A28ZPY6D5AS7GZ: already accepted compensation HIT,  \n",
      "working on a compensation HIT for A28ZPY6D5AS7GZ\n",
      "no feedback data for subject\n",
      "\n",
      "Enter a custom message? Pressing enter reverts to default. Thanks for being patient with us!\n",
      "Amount to bonus worker? Pressing enter reverts to 4.48 \n",
      "success!\n",
      "\n"
     ]
    }
   ],
   "source": [
    "for i_worker in range(len(result)): \n",
    "    \n",
    "    worker_id = result[i_worker].WorkerId\n",
    "    assignment_id = result[i_worker].AssignmentId\n",
    "    w_data, bonus_amount, is_data = extract_worker_info(worker_id, 'match_to_sample')\n",
    "    \n",
    "    if is_data:\n",
    "        \n",
    "        try: \n",
    "            mtc.approve_assignment(assignment_id)\n",
    "            print('%s: accepted compensation HIT, '%worker_id, end=' ')\n",
    "        except: \n",
    "            print('%s: already accepted compensation HIT, '%worker_id, end=' ')\n",
    "        \n",
    "        \n",
    "        base_pay = 0.50\n",
    "        bonus_amount = bonus_amount + base_pay\n",
    "\n",
    "        directory = 'compensation_records'\n",
    "\n",
    "        if not os.path.exists(directory): os.makedirs(directory)\n",
    "\n",
    "        if not os.path.exists(directory + '/' + worker_id + '_' + assignment_id + '_' + str(bonus_amount) + '.npy'):\n",
    "\n",
    "            print('\\nworking on a compensation HIT for %s'%worker_id)\n",
    "\n",
    "            try: \n",
    "                print('n trials:', w_data['n_trials'])\n",
    "                print('duration:', w_data['experiment_duration'])\n",
    "                print('blocks_completed:', w_data['n_block'])\n",
    "                print('total_bonus_earned:', w_data['total_bonus_earned'])\n",
    "                print(w_data['worker_input'])\n",
    "\n",
    "            except: \n",
    "\n",
    "                print(\"no feedback data for subject\\n\")\n",
    "\n",
    "            bonus_amount = bonus_amount \n",
    "\n",
    "            MSG = input(\"Enter a custom message? Pressing enter reverts to default. \")\n",
    "            if len(MSG) == 0: MSG = \"Thanks so much for participating in our study!\"\n",
    "            BONUS = input(\"Amount to bonus worker? Pressing enter reverts to {} \".format(bonus_amount))\n",
    "            if len(BONUS) == 0: BONUS = bonus_amount\n",
    "            converted_bonus = boto.mturk.price.Price(BONUS) \n",
    "\n",
    "            s = mtc.grant_bonus(worker_id, assignment_id,  converted_bonus, MSG);\n",
    "            print('success!\\n')\n",
    "\n",
    "            compensation_info = {'time':datetime.datetime.now(), \n",
    "                                 'worker_id': worker_id, \n",
    "                                 'message':MSG, \n",
    "                                 'bonus_amount':bonus_amount,\n",
    "                                 'assignment_id':assignment_id, \n",
    "                                 'submission_response':{type(s): s}, \n",
    "                                 'worker_data':w_data}    \n",
    "\n",
    "            np.save(directory + '/' + worker_id + '_' + assignment_id + '_' + str(bonus_amount), compensation_info)\n",
    "\n",
    "        else: \n",
    "\n",
    "            print('already bonused for the original HIT')\n",
    "    else: \n",
    "        \n",
    "        print('Nothing in database for', worker_id)"
   ]
  },
  {
   "cell_type": "code",
   "execution_count": 657,
   "metadata": {},
   "outputs": [],
   "source": [
    "mark = collection.find({'worker_id':'A28ZPY6D5AS7GZ', 'data_type':'worker_feedback'})"
   ]
  },
  {
   "cell_type": "code",
   "execution_count": 658,
   "metadata": {},
   "outputs": [],
   "source": [
    "def get_subject_payment_history(worker_id): \n",
    "    \n",
    "    comp = [i for i in os.listdir('compensation_records/') if worker_id in i]\n",
    "    compensation_hits = [np.load(os.path.join('compensation_records', i_comp)).item()  for i_comp in comp]\n",
    "    recent_payments = pandas.read_csv('transaction_history_6months.csv')\n",
    "    amazon_records = recent_payments[recent_payments['Recipient ID'] == worker_id]\n",
    "    \n",
    "    for i_sub in subs.keys(): \n",
    "        if 'subject_info' in subs[i_sub]:\n",
    "            if worker_id in subs[i_sub]['subject_info'].keys(): \n",
    "                bonus_info[subs[i_sub]['hit_id']] = subs[i_sub]['subject_info'][worker_id]\n",
    "    \n",
    "    return amazon_records, bonus_info, compensation_hits\n",
    "    "
   ]
  },
  {
   "cell_type": "code",
   "execution_count": 659,
   "metadata": {},
   "outputs": [
    {
     "ename": "TypeError",
     "evalue": "index 'worker_id' cannot be applied to Cursor instances",
     "output_type": "error",
     "traceback": [
      "\u001b[0;31m---------------------------------------------------------------------------\u001b[0m",
      "\u001b[0;31mTypeError\u001b[0m                                 Traceback (most recent call last)",
      "\u001b[0;32m<ipython-input-659-5e0210f7e38c>\u001b[0m in \u001b[0;36m<module>\u001b[0;34m()\u001b[0m\n\u001b[0;32m----> 1\u001b[0;31m \u001b[0mget_subject_payment_history\u001b[0m\u001b[0;34m(\u001b[0m\u001b[0mmark\u001b[0m\u001b[0;34m[\u001b[0m\u001b[0;34m'worker_id'\u001b[0m\u001b[0;34m]\u001b[0m\u001b[0;34m)\u001b[0m\u001b[0;34m\u001b[0m\u001b[0m\n\u001b[0m",
      "\u001b[0;32m/anaconda3/lib/python3.7/site-packages/pymongo/cursor.py\u001b[0m in \u001b[0;36m__getitem__\u001b[0;34m(self, index)\u001b[0m\n\u001b[1;32m    612\u001b[0m             \u001b[0;32mraise\u001b[0m \u001b[0mIndexError\u001b[0m\u001b[0;34m(\u001b[0m\u001b[0;34m\"no such item for Cursor instance\"\u001b[0m\u001b[0;34m)\u001b[0m\u001b[0;34m\u001b[0m\u001b[0m\n\u001b[1;32m    613\u001b[0m         raise TypeError(\"index %r cannot be applied to Cursor \"\n\u001b[0;32m--> 614\u001b[0;31m                         \"instances\" % index)\n\u001b[0m\u001b[1;32m    615\u001b[0m \u001b[0;34m\u001b[0m\u001b[0m\n\u001b[1;32m    616\u001b[0m     \u001b[0;32mdef\u001b[0m \u001b[0mmax_scan\u001b[0m\u001b[0;34m(\u001b[0m\u001b[0mself\u001b[0m\u001b[0;34m,\u001b[0m \u001b[0mmax_scan\u001b[0m\u001b[0;34m)\u001b[0m\u001b[0;34m:\u001b[0m\u001b[0;34m\u001b[0m\u001b[0m\n",
      "\u001b[0;31mTypeError\u001b[0m: index 'worker_id' cannot be applied to Cursor instances"
     ]
    }
   ],
   "source": [
    "get_subject_payment_history(mark['worker_id'])"
   ]
  },
  {
   "cell_type": "code",
   "execution_count": null,
   "metadata": {},
   "outputs": [],
   "source": []
  },
  {
   "cell_type": "code",
   "execution_count": null,
   "metadata": {},
   "outputs": [],
   "source": []
  },
  {
   "cell_type": "code",
   "execution_count": 667,
   "metadata": {},
   "outputs": [
    {
     "data": {
      "text/plain": [
       "{'_id': ObjectId('5be959ae07aab50b0dfa1d4f'),\n",
       " 'data_type': 'worker_feedback',\n",
       " 'worker_input': '',\n",
       " 'iteration_name': 'pilot1_mts_birds_distributed_clusters_nearest_neighbors10_45min',\n",
       " 'n_block': 3,\n",
       " 'n_trials': 429,\n",
       " 'experiment_cluster_order': '',\n",
       " 'total_bonus_earned': 3.9800000000000026,\n",
       " 'n_trials_performance_cutoff': 100,\n",
       " 'experiment_duration': 68.23333333333333,\n",
       " 'final_accuracies': {'all_class_accuracy': 0.5714285714285714,\n",
       "  'new_class_accuracy': 0.5,\n",
       "  'old_class_accuracy': 0.6},\n",
       " 'worker_id': 'A28ZPY6D5AS7GZ',\n",
       " 'assignment_id': '388U7OUMF81UDVW05XE56GP7EVKR0E',\n",
       " 'hit_id': '3PEG1BH7AFR7OUOLNRXW024Q1R7BKZ'}"
      ]
     },
     "execution_count": 667,
     "metadata": {},
     "output_type": "execute_result"
    }
   ],
   "source": [
    "collection.find({'worker_id':'A28ZPY6D5AS7GZ', 'data_type':'worker_feedback'})[0]"
   ]
  },
  {
   "cell_type": "code",
   "execution_count": null,
   "metadata": {},
   "outputs": [],
   "source": []
  },
  {
   "cell_type": "code",
   "execution_count": 663,
   "metadata": {},
   "outputs": [
    {
     "data": {
      "text/plain": [
       "[{'time': datetime.datetime(2018, 11, 15, 18, 21, 22, 96718),\n",
       "  'worker_id': 'A28ZPY6D5AS7GZ',\n",
       "  'message': 'Thanks for being patient with us!',\n",
       "  'bonus_amount': 4.48,\n",
       "  'assignment_id': '34X6J5FLPUY130IMEQZBJVUYJZAQJ5',\n",
       "  'submission_response': {boto.resultset.ResultSet: []},\n",
       "  'worker_data': ''}]"
      ]
     },
     "execution_count": 663,
     "metadata": {},
     "output_type": "execute_result"
    }
   ],
   "source": [
    "comps"
   ]
  },
  {
   "cell_type": "code",
   "execution_count": 661,
   "metadata": {},
   "outputs": [
    {
     "data": {
      "text/html": [
       "<div>\n",
       "<style scoped>\n",
       "    .dataframe tbody tr th:only-of-type {\n",
       "        vertical-align: middle;\n",
       "    }\n",
       "\n",
       "    .dataframe tbody tr th {\n",
       "        vertical-align: top;\n",
       "    }\n",
       "\n",
       "    .dataframe thead th {\n",
       "        text-align: right;\n",
       "    }\n",
       "</style>\n",
       "<table border=\"1\" class=\"dataframe\">\n",
       "  <thead>\n",
       "    <tr style=\"text-align: right;\">\n",
       "      <th></th>\n",
       "      <th>Transaction ID</th>\n",
       "      <th>Date Initiated</th>\n",
       "      <th>Date Posted</th>\n",
       "      <th>Transaction Type</th>\n",
       "      <th>Payment Method</th>\n",
       "      <th>Recipient ID</th>\n",
       "      <th>Amount</th>\n",
       "      <th>HIT ID</th>\n",
       "      <th>Assignment ID</th>\n",
       "    </tr>\n",
       "  </thead>\n",
       "  <tbody>\n",
       "    <tr>\n",
       "      <th>438</th>\n",
       "      <td>3FJ4FWECS08SX69N51MW0ZLWZ2R5W2</td>\n",
       "      <td>2018-08-30 21:26:10 -0700</td>\n",
       "      <td>2018-08-31 01:04:20 -0700</td>\n",
       "      <td>AssignmentPayment</td>\n",
       "      <td>NaN</td>\n",
       "      <td>A28ZPY6D5AS7GZ</td>\n",
       "      <td>-0.5</td>\n",
       "      <td>3XAOZ9UYR0RSMZ4OYZO4QC3QASMQ1B</td>\n",
       "      <td>39RP059MEIT402MIY5FD4YRGC1UMBA</td>\n",
       "    </tr>\n",
       "    <tr>\n",
       "      <th>1084</th>\n",
       "      <td>3UYW7B4QGGBMP96QMICO82AIK42XZY</td>\n",
       "      <td>2018-09-02 07:16:16 -0700</td>\n",
       "      <td>2018-09-02 14:51:10 -0700</td>\n",
       "      <td>BonusPayment</td>\n",
       "      <td>NaN</td>\n",
       "      <td>A28ZPY6D5AS7GZ</td>\n",
       "      <td>-0.8</td>\n",
       "      <td>NaN</td>\n",
       "      <td>3FTR0S67WRA42AC5QCSB4V2744RO3X</td>\n",
       "    </tr>\n",
       "  </tbody>\n",
       "</table>\n",
       "</div>"
      ],
      "text/plain": [
       "                      Transaction ID             Date Initiated  \\\n",
       "438   3FJ4FWECS08SX69N51MW0ZLWZ2R5W2  2018-08-30 21:26:10 -0700   \n",
       "1084  3UYW7B4QGGBMP96QMICO82AIK42XZY  2018-09-02 07:16:16 -0700   \n",
       "\n",
       "                    Date Posted   Transaction Type Payment Method  \\\n",
       "438   2018-08-31 01:04:20 -0700  AssignmentPayment            NaN   \n",
       "1084  2018-09-02 14:51:10 -0700       BonusPayment            NaN   \n",
       "\n",
       "        Recipient ID  Amount                          HIT ID  \\\n",
       "438   A28ZPY6D5AS7GZ    -0.5  3XAOZ9UYR0RSMZ4OYZO4QC3QASMQ1B   \n",
       "1084  A28ZPY6D5AS7GZ    -0.8                             NaN   \n",
       "\n",
       "                       Assignment ID  \n",
       "438   39RP059MEIT402MIY5FD4YRGC1UMBA  \n",
       "1084  3FTR0S67WRA42AC5QCSB4V2744RO3X  "
      ]
     },
     "execution_count": 661,
     "metadata": {},
     "output_type": "execute_result"
    }
   ],
   "source": [
    "checking_manually = {'name': 'Mark', 'worker_id': 'A28ZPY6D5AS7GZ'}\n",
    "\n",
    "amazon, bonuses, comps = get_subject_payment_history(checking_manually['worker_id'])\n",
    "\n",
    "subject_info = collection.find({'worker_id':checking_manually['worker_id']})\n",
    "subject_bonus = [i['bonus_earned'] for i in subject_info if 'bonus_earned' in i]\n",
    "max_bonus = np.round(max(subject_bonus),2)\n",
    "amazon"
   ]
  },
  {
   "cell_type": "code",
   "execution_count": null,
   "metadata": {},
   "outputs": [],
   "source": []
  },
  {
   "cell_type": "code",
   "execution_count": 607,
   "metadata": {},
   "outputs": [
    {
     "data": {
      "image/png": "[encoded data removed]",
      "text/plain": [
       "<Figure size 432x288 with 1 Axes>"
      ]
     },
     "metadata": {
      "needs_background": "light"
     },
     "output_type": "display_data"
    }
   ],
   "source": [
    "\n",
    "ylabel('$   ', fontsize=20, rotation=0)\n",
    "xlabel('trials')\n",
    "title(\"%s's bonus over time, max=%.02f\"%(checking_manually['name'], max_bonus))\n",
    "plot(subject_bonus); \n"
   ]
  },
  {
   "cell_type": "code",
   "execution_count": 637,
   "metadata": {},
   "outputs": [
    {
     "data": {
      "text/plain": [
       "[[164,\n",
       "  37,\n",
       "  138,\n",
       "  133,\n",
       "  173,\n",
       "  139,\n",
       "  115,\n",
       "  34,\n",
       "  156,\n",
       "  16,\n",
       "  157,\n",
       "  15,\n",
       "  53,\n",
       "  147,\n",
       "  42,\n",
       "  135,\n",
       "  14,\n",
       "  41,\n",
       "  55,\n",
       "  13],\n",
       " [116,\n",
       "  170,\n",
       "  119,\n",
       "  128,\n",
       "  98,\n",
       "  118,\n",
       "  117,\n",
       "  124,\n",
       "  120,\n",
       "  130,\n",
       "  126,\n",
       "  103,\n",
       "  129,\n",
       "  38,\n",
       "  148,\n",
       "  132,\n",
       "  149,\n",
       "  36,\n",
       "  127,\n",
       "  114],\n",
       " [174,\n",
       "  168,\n",
       "  166,\n",
       "  171,\n",
       "  179,\n",
       "  160,\n",
       "  169,\n",
       "  176,\n",
       "  19,\n",
       "  161,\n",
       "  95,\n",
       "  181,\n",
       "  155,\n",
       "  97,\n",
       "  54,\n",
       "  199,\n",
       "  167,\n",
       "  46,\n",
       "  175,\n",
       "  162],\n",
       " [48,\n",
       "  111,\n",
       "  12,\n",
       "  81,\n",
       "  39,\n",
       "  78,\n",
       "  150,\n",
       "  110,\n",
       "  137,\n",
       "  101,\n",
       "  79,\n",
       "  159,\n",
       "  26,\n",
       "  10,\n",
       "  113,\n",
       "  77,\n",
       "  90,\n",
       "  18,\n",
       "  102,\n",
       "  8],\n",
       " [141,\n",
       "  63,\n",
       "  144,\n",
       "  145,\n",
       "  60,\n",
       "  57,\n",
       "  70,\n",
       "  64,\n",
       "  143,\n",
       "  140,\n",
       "  142,\n",
       "  58,\n",
       "  1,\n",
       "  7,\n",
       "  83,\n",
       "  65,\n",
       "  44,\n",
       "  59,\n",
       "  146,\n",
       "  61]]"
      ]
     },
     "execution_count": 637,
     "metadata": {},
     "output_type": "execute_result"
    }
   ],
   "source": [
    "import json\n",
    "with open('../support/bird_data.json') as f:\n",
    "    bird_info = json.load(f)\n",
    "bird_info['clusters']"
   ]
  },
  {
   "cell_type": "code",
   "execution_count": 632,
   "metadata": {},
   "outputs": [],
   "source": [
    "path_to_tasks  = '..'"
   ]
  },
  {
   "cell_type": "markdown",
   "metadata": {},
   "source": [
    "ls "
   ]
  },
  {
   "cell_type": "code",
   "execution_count": 608,
   "metadata": {},
   "outputs": [
    {
     "data": {
      "text/plain": [
       "[]"
      ]
     },
     "execution_count": 608,
     "metadata": {},
     "output_type": "execute_result"
    }
   ],
   "source": [
    "[i for i in os.listdir('compensation_records/') if checking_manually['worker_id'] in i]"
   ]
  },
  {
   "cell_type": "code",
   "execution_count": 610,
   "metadata": {},
   "outputs": [
    {
     "name": "stdout",
     "output_type": "stream",
     "text": [
      "AZKH6G2SIV9S: already accepted compensation HIT,  \n",
      "working on a compensation HIT for AZKH6G2SIV9S\n",
      "no feedback data for subject\n",
      "\n",
      "Enter a custom message? Pressing enter reverts to default. Sorry for the delay!\n",
      "Amount to bonus worker? Pressing enter reverts to 6.72 \n",
      "success!\n",
      "\n"
     ]
    }
   ],
   "source": [
    "compensate_worker(checking_manually['worker_id'], amazon['Assignment ID'].values[0], max_bonus-.50)"
   ]
  },
  {
   "cell_type": "code",
   "execution_count": 465,
   "metadata": {},
   "outputs": [],
   "source": [
    "def compensate_worker(worker_id, assignment_id, bonus_amount):   \n",
    "\n",
    "    try: \n",
    "        mtc.approve_assignment(assignment_id)\n",
    "        print('%s: accepted compensation HIT, '%worker_id, end=' ')\n",
    "    except: \n",
    "        print('%s: already accepted compensation HIT, '%worker_id, end=' ')\n",
    "\n",
    "    base_pay = 0.50\n",
    "    bonus_amount = bonus_amount + base_pay\n",
    "\n",
    "    directory = 'compensation_records'\n",
    "\n",
    "    if not os.path.exists(directory): os.makedirs(directory)\n",
    "\n",
    "    if not os.path.exists(directory + '/' + worker_id + '_' + assignment_id + '_' + str(bonus_amount) + '.npy'):\n",
    "\n",
    "        print('\\nworking on a compensation HIT for %s'%worker_id)\n",
    "\n",
    "        try: \n",
    "            print('n trials:', w_data['n_trials'])\n",
    "            print('duration:', w_data['experiment_duration'])\n",
    "            print('blocks_completed:', w_data['n_block'])\n",
    "            print('total_bonus_earned:', w_data['total_bonus_earned'])\n",
    "            print(w_data['worker_input'])\n",
    "\n",
    "        except: \n",
    "\n",
    "            print(\"no feedback data for subject\\n\")\n",
    "\n",
    "        bonus_amount = bonus_amount \n",
    "\n",
    "        MSG = input(\"Enter a custom message? Pressing enter reverts to default. \")\n",
    "        if len(MSG) == 0: MSG = \"Thanks so much for participating in our study!\"\n",
    "        BONUS = input(\"Amount to bonus worker? Pressing enter reverts to {} \".format(bonus_amount))\n",
    "        if len(BONUS) == 0: BONUS = bonus_amount\n",
    "        converted_bonus = boto.mturk.price.Price(BONUS) \n",
    "\n",
    "        s = mtc.grant_bonus(worker_id, assignment_id,  converted_bonus, MSG);\n",
    "        print('success!\\n')\n",
    "\n",
    "        compensation_info = {'time':datetime.datetime.now(), \n",
    "                             'worker_id': worker_id, \n",
    "                             'message':MSG, \n",
    "                             'bonus_amount':bonus_amount,\n",
    "                             'assignment_id':assignment_id, \n",
    "                             'submission_response':{type(s): s}, \n",
    "                             'worker_data':w_data}    \n",
    "\n",
    "        np.save(directory + '/' + worker_id + '_' + assignment_id + '_' + str(bonus_amount), compensation_info)\n",
    "\n",
    "    else: \n",
    "\n",
    "        print('already bonused for the original HIT')"
   ]
  }
 ],
 "metadata": {
  "kernelspec": {
   "display_name": "Python 3",
   "language": "python",
   "name": "python3"
  },
  "language_info": {
   "codemirror_mode": {
    "name": "ipython",
    "version": 3
   },
   "file_extension": ".py",
   "mimetype": "text/x-python",
   "name": "python",
   "nbconvert_exporter": "python",
   "pygments_lexer": "ipython3",
   "version": "3.7.0"
  }
 },
 "nbformat": 4,
 "nbformat_minor": 2
}
